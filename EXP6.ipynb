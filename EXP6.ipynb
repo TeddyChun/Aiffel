{
  "cells": [
    {
      "cell_type": "markdown",
      "source": [
        "EXP6"
      ],
      "metadata": {
        "id": "_OhFBuG6C0Td"
      },
      "id": "_OhFBuG6C0Td"
    },
    {
      "cell_type": "code",
      "source": [
        "from google.colab import drive\n",
        "drive.mount('/content/drive') "
      ],
      "metadata": {
        "colab": {
          "base_uri": "https://localhost:8080/"
        },
        "id": "zziYpv7lslUW",
        "outputId": "8e988c81-c1c4-42da-ed76-e9426b5e2228"
      },
      "id": "zziYpv7lslUW",
      "execution_count": 1,
      "outputs": [
        {
          "output_type": "stream",
          "name": "stdout",
          "text": [
            "Mounted at /content/drive\n"
          ]
        }
      ]
    },
    {
      "cell_type": "code",
      "execution_count": 2,
      "metadata": {
        "colab": {
          "base_uri": "https://localhost:8080/"
        },
        "id": "MdoNsOFtgcDu",
        "outputId": "f5ccd07f-0105-4003-c644-e41668afecbf"
      },
      "outputs": [
        {
          "output_type": "stream",
          "name": "stdout",
          "text": [
            "2.8.0\n"
          ]
        }
      ],
      "source": [
        "# 프로젝트: 멋진 작사가 만들기\n",
        "\n",
        "import glob\n",
        "import tensorflow\n",
        "\n",
        "#print(glob.__version__)\n",
        "print(tensorflow.__version__)"
      ],
      "id": "MdoNsOFtgcDu"
    },
    {
      "cell_type": "code",
      "execution_count": 4,
      "metadata": {
        "colab": {
          "base_uri": "https://localhost:8080/"
        },
        "id": "gYD2u0SEgcG8",
        "outputId": "c833199f-53a7-445a-c34a-9843049ccefc"
      },
      "outputs": [
        {
          "output_type": "stream",
          "name": "stdout",
          "text": [
            "['/content/drive/MyDrive/Colab Notebooks/Aiffel/EXP/Data/exp6-input/lyrics/joni-mitchell.txt', '/content/drive/MyDrive/Colab Notebooks/Aiffel/EXP/Data/exp6-input/lyrics/disney.txt', '/content/drive/MyDrive/Colab Notebooks/Aiffel/EXP/Data/exp6-input/lyrics/kanye-west.txt', '/content/drive/MyDrive/Colab Notebooks/Aiffel/EXP/Data/exp6-input/lyrics/nicki-minaj.txt', '/content/drive/MyDrive/Colab Notebooks/Aiffel/EXP/Data/exp6-input/lyrics/nickelback.txt', '/content/drive/MyDrive/Colab Notebooks/Aiffel/EXP/Data/exp6-input/lyrics/jimi-hendrix.txt', '/content/drive/MyDrive/Colab Notebooks/Aiffel/EXP/Data/exp6-input/lyrics/paul-simon.txt', '/content/drive/MyDrive/Colab Notebooks/Aiffel/EXP/Data/exp6-input/lyrics/radiohead.txt', '/content/drive/MyDrive/Colab Notebooks/Aiffel/EXP/Data/exp6-input/lyrics/missy-elliott.txt', '/content/drive/MyDrive/Colab Notebooks/Aiffel/EXP/Data/exp6-input/lyrics/dolly-parton.txt', '/content/drive/MyDrive/Colab Notebooks/Aiffel/EXP/Data/exp6-input/lyrics/dr-seuss.txt', '/content/drive/MyDrive/Colab Notebooks/Aiffel/EXP/Data/exp6-input/lyrics/r-kelly.txt', '/content/drive/MyDrive/Colab Notebooks/Aiffel/EXP/Data/exp6-input/lyrics/nursery_rhymes.txt', '/content/drive/MyDrive/Colab Notebooks/Aiffel/EXP/Data/exp6-input/lyrics/eminem.txt', '/content/drive/MyDrive/Colab Notebooks/Aiffel/EXP/Data/exp6-input/lyrics/kanye.txt', '/content/drive/MyDrive/Colab Notebooks/Aiffel/EXP/Data/exp6-input/lyrics/lil-wayne.txt', '/content/drive/MyDrive/Colab Notebooks/Aiffel/EXP/Data/exp6-input/lyrics/prince.txt', '/content/drive/MyDrive/Colab Notebooks/Aiffel/EXP/Data/exp6-input/lyrics/notorious_big.txt', '/content/drive/MyDrive/Colab Notebooks/Aiffel/EXP/Data/exp6-input/lyrics/dj-khaled.txt', '/content/drive/MyDrive/Colab Notebooks/Aiffel/EXP/Data/exp6-input/lyrics/rihanna.txt', '/content/drive/MyDrive/Colab Notebooks/Aiffel/EXP/Data/exp6-input/lyrics/lin-manuel-miranda.txt', '/content/drive/MyDrive/Colab Notebooks/Aiffel/EXP/Data/exp6-input/lyrics/patti-smith.txt', '/content/drive/MyDrive/Colab Notebooks/Aiffel/EXP/Data/exp6-input/lyrics/leonard-cohen.txt', '/content/drive/MyDrive/Colab Notebooks/Aiffel/EXP/Data/exp6-input/lyrics/bjork.txt', '/content/drive/MyDrive/Colab Notebooks/Aiffel/EXP/Data/exp6-input/lyrics/Kanye_West.txt', '/content/drive/MyDrive/Colab Notebooks/Aiffel/EXP/Data/exp6-input/lyrics/amy-winehouse.txt', '/content/drive/MyDrive/Colab Notebooks/Aiffel/EXP/Data/exp6-input/lyrics/lady-gaga.txt', '/content/drive/MyDrive/Colab Notebooks/Aiffel/EXP/Data/exp6-input/lyrics/michael-jackson.txt', '/content/drive/MyDrive/Colab Notebooks/Aiffel/EXP/Data/exp6-input/lyrics/bob-marley.txt', '/content/drive/MyDrive/Colab Notebooks/Aiffel/EXP/Data/exp6-input/lyrics/bruno-mars.txt', '/content/drive/MyDrive/Colab Notebooks/Aiffel/EXP/Data/exp6-input/lyrics/bruce-springsteen.txt', '/content/drive/MyDrive/Colab Notebooks/Aiffel/EXP/Data/exp6-input/lyrics/lorde.txt', '/content/drive/MyDrive/Colab Notebooks/Aiffel/EXP/Data/exp6-input/lyrics/bob-dylan.txt', '/content/drive/MyDrive/Colab Notebooks/Aiffel/EXP/Data/exp6-input/lyrics/ludacris.txt', '/content/drive/MyDrive/Colab Notebooks/Aiffel/EXP/Data/exp6-input/lyrics/janisjoplin.txt', '/content/drive/MyDrive/Colab Notebooks/Aiffel/EXP/Data/exp6-input/lyrics/nirvana.txt', '/content/drive/MyDrive/Colab Notebooks/Aiffel/EXP/Data/exp6-input/lyrics/blink-182.txt', '/content/drive/MyDrive/Colab Notebooks/Aiffel/EXP/Data/exp6-input/lyrics/Lil_Wayne.txt', '/content/drive/MyDrive/Colab Notebooks/Aiffel/EXP/Data/exp6-input/lyrics/britney-spears.txt', '/content/drive/MyDrive/Colab Notebooks/Aiffel/EXP/Data/exp6-input/lyrics/johnny-cash.txt', '/content/drive/MyDrive/Colab Notebooks/Aiffel/EXP/Data/exp6-input/lyrics/notorious-big.txt', '/content/drive/MyDrive/Colab Notebooks/Aiffel/EXP/Data/exp6-input/lyrics/dickinson.txt', '/content/drive/MyDrive/Colab Notebooks/Aiffel/EXP/Data/exp6-input/lyrics/cake.txt', '/content/drive/MyDrive/Colab Notebooks/Aiffel/EXP/Data/exp6-input/lyrics/drake.txt', '/content/drive/MyDrive/Colab Notebooks/Aiffel/EXP/Data/exp6-input/lyrics/beatles.txt', '/content/drive/MyDrive/Colab Notebooks/Aiffel/EXP/Data/exp6-input/lyrics/al-green.txt', '/content/drive/MyDrive/Colab Notebooks/Aiffel/EXP/Data/exp6-input/lyrics/adele.txt', '/content/drive/MyDrive/Colab Notebooks/Aiffel/EXP/Data/exp6-input/lyrics/alicia-keys.txt', '/content/drive/MyDrive/Colab Notebooks/Aiffel/EXP/Data/exp6-input/lyrics/bieber.txt']\n",
            "데이터 크기: 187088\n",
            "Examples:\n",
            " ['Just before our love got lost you said', 'I am as constant as a northern star\" and I said', 'Constantly in the darkness']\n"
          ]
        }
      ],
      "source": [
        "import glob\n",
        "import os\n",
        "#!pwd\n",
        "\n",
        "txt_file_path = os.getcwd()+\"/drive/MyDrive/Colab Notebooks/Aiffel/EXP/Data/exp6-input/lyrics/*.txt\"\n",
        "#print(os.getcwd())\n",
        "\n",
        "txt_list = glob.glob(txt_file_path)\n",
        "print(txt_list)\n",
        "raw_corpus = []\n",
        "\n",
        "# 여러개의 txt 파일을 모두 읽어서 raw_corpus 에 담습니다.\n",
        "for txt_file in txt_list:\n",
        "    with open(txt_file, \"r\") as f:\n",
        "        raw = f.read().splitlines()\n",
        "        raw_corpus.extend(raw)\n",
        "\n",
        "print(\"데이터 크기:\", len(raw_corpus))\n",
        "print(\"Examples:\\n\", raw_corpus[:3])"
      ],
      "id": "gYD2u0SEgcG8"
    },
    {
      "cell_type": "code",
      "execution_count": 5,
      "metadata": {
        "colab": {
          "base_uri": "https://localhost:8080/"
        },
        "outputId": "eca63edf-84dc-4b5b-99c3-722046703768",
        "id": "RteYKVaQrfEi"
      },
      "outputs": [
        {
          "output_type": "stream",
          "name": "stdout",
          "text": [
            "<start> this is sample sentence . <end>\n"
          ]
        }
      ],
      "source": [
        "import re \n",
        "# 입력된 문장을\n",
        "#     1. 소문자로 바꾸고, 양쪽 공백을 지웁니다\n",
        "#     2. 특수문자 양쪽에 공백을 넣고\n",
        "#     3. 여러개의 공백은 하나의 공백으로 바꿉니다\n",
        "#     4. a-zA-Z?.!,¿가 아닌 모든 문자를 하나의 공백으로 바꿉니다\n",
        "#     5. 다시 양쪽 공백을 지웁니다\n",
        "#     6. 문장 시작에는 <start>, 끝에는 <end>를 추가합니다\n",
        "# 이 순서로 처리해주면 문제가 되는 상황을 방지할 수 있겠네요!\n",
        "def preprocess_sentence(sentence):\n",
        "    sentence = sentence.lower().strip() # 1\n",
        "    sentence = re.sub(r\"([?.!,¿])\", r\" \\1 \", sentence) # 2\n",
        "    sentence = re.sub(r'[\" \"]+', \" \", sentence) # 3\n",
        "    sentence = re.sub(r\"[^a-zA-Z?.!,¿]+\", \" \", sentence) # 4\n",
        "    sentence = sentence.strip() # 5\n",
        "    sentence = '<start> ' + sentence + ' <end>' # 6\n",
        "    return sentence\n",
        "\n",
        "# 이 문장이 어떻게 필터링되는지 확인해 보세요.\n",
        "print(preprocess_sentence(\"This @_is ;;;sample        sentence.\"))"
      ],
      "id": "RteYKVaQrfEi"
    },
    {
      "cell_type": "code",
      "source": [
        "# 여기에 정제된 문장을 모을겁니다\n",
        "corpus = []\n",
        "\n",
        "for sentence in raw_corpus:\n",
        "    # 우리가 원하지 않는 문장은 건너뜁니다\n",
        "    if len(sentence) == 0: continue\n",
        "    if sentence[-1] == \":\": continue\n",
        "    \n",
        "    # 정제를 하고 담아주세요\n",
        "    preprocessed_sentence = preprocess_sentence(sentence)\n",
        "    corpus.append(preprocessed_sentence)\n",
        "        \n",
        "# 정제된 결과를 10개만 확인해보죠\n",
        "corpus[:10]"
      ],
      "metadata": {
        "colab": {
          "base_uri": "https://localhost:8080/"
        },
        "id": "OQ6bvoJmrREO",
        "outputId": "d16b3877-696a-49d8-e6dc-178f92377ba4"
      },
      "id": "OQ6bvoJmrREO",
      "execution_count": 6,
      "outputs": [
        {
          "output_type": "execute_result",
          "data": {
            "text/plain": [
              "['<start> just before our love got lost you said <end>',\n",
              " '<start> i am as constant as a northern star and i said <end>',\n",
              " '<start> constantly in the darkness <end>',\n",
              " '<start> where s that at <end>',\n",
              " '<start> if you want me i ll be in the bar on the back of a cartoon coaster <end>',\n",
              " '<start> in the blue tv screen light <end>',\n",
              " '<start> i drew a map of canada <end>',\n",
              " '<start> oh canada <end>',\n",
              " '<start> and i sketched your face on it twice oh you are in my blood like holy wine <end>',\n",
              " '<start> you taste so bitter <end>']"
            ]
          },
          "metadata": {},
          "execution_count": 6
        }
      ]
    },
    {
      "cell_type": "code",
      "source": [
        "import tensorflow as tf\n",
        "# 토큰화 할 때 텐서플로우의 Tokenizer와 pad_sequences를 사용합니다\n",
        "# 더 잘 알기 위해 아래 문서들을 참고하면 좋습니다\n",
        "# https://www.tensorflow.org/api_docs/python/tf/keras/preprocessing/text/Tokenizer\n",
        "# https://www.tensorflow.org/api_docs/python/tf/keras/preprocessing/sequence/pad_sequences\n",
        "def tokenize(corpus):\n",
        "    # 12000 단어를 기억할 수 있는 tokenizer를 만들겁니다\n",
        "    # 우리는 이미 문장을 정제했으니 filters가 필요없어요\n",
        "    # 12000 단어에 포함되지 못한 단어는 '<unk>'로 바꿀거에요\n",
        "    tokenizer = tf.keras.preprocessing.text.Tokenizer(\n",
        "        num_words=12000, \n",
        "        filters=' ',\n",
        "        oov_token=\"<unk>\"\n",
        "    )\n",
        "    # corpus를 이용해 tokenizer 내부의 단어장을 완성합니다\n",
        "    tokenizer.fit_on_texts(corpus)\n",
        "    # 준비한 tokenizer를 이용해 corpus를 Tensor로 변환합니다\n",
        "    tensor = tokenizer.texts_to_sequences(corpus)   \n",
        "    # 입력 데이터의 시퀀스 길이를 일정하게 맞춰줍니다\n",
        "    # 만약 시퀀스가 짧다면 문장 뒤에 패딩을 붙여 길이를 맞춰줍니다.\n",
        "    # 문장 앞에 패딩을 붙여 길이를 맞추고 싶다면 padding='pre'를 사용합니다\n",
        "    tensor = tf.keras.preprocessing.sequence.pad_sequences(tensor,\n",
        "                                                           maxlen=15,\n",
        "                                                           padding='post')  \n",
        "    \n",
        "    print(tensor,tokenizer)\n",
        "    return tensor, tokenizer\n",
        "\n",
        "tensor, tokenizer = tokenize(corpus)"
      ],
      "metadata": {
        "colab": {
          "base_uri": "https://localhost:8080/"
        },
        "id": "65vCrA9DrRH-",
        "outputId": "5206c120-2a5b-43a8-de74-11b2b6838abf"
      },
      "id": "65vCrA9DrRH-",
      "execution_count": 7,
      "outputs": [
        {
          "output_type": "stream",
          "name": "stdout",
          "text": [
            "[[   2   35  185 ...    0    0    0]\n",
            " [   2    5  151 ...    3    0    0]\n",
            " [   2 4179   14 ...    0    0    0]\n",
            " ...\n",
            " [   2   49    3 ...    0    0    0]\n",
            " [   2   39    4 ...    0    0    0]\n",
            " [   2   49    3 ...    0    0    0]] <keras_preprocessing.text.Tokenizer object at 0x7fd6d288c8d0>\n"
          ]
        }
      ]
    },
    {
      "cell_type": "code",
      "source": [
        "#생성된 텐서 데이터를 3번째 행, 10번째 열까지만 출력해 봅시다.\n",
        "print(tensor[:3, :10])"
      ],
      "metadata": {
        "colab": {
          "base_uri": "https://localhost:8080/"
        },
        "id": "a34XFk4urRLY",
        "outputId": "6ab94906-6025-4c59-dd79-3800451ea1ae"
      },
      "id": "a34XFk4urRLY",
      "execution_count": 8,
      "outputs": [
        {
          "output_type": "stream",
          "name": "stdout",
          "text": [
            "[[   2   35  185  155   33   41  332    7  107    3]\n",
            " [   2    5  151   81 4376   81    9 5629  503    8]\n",
            " [   2 4179   14    6 1299    3    0    0    0    0]]\n"
          ]
        }
      ]
    },
    {
      "cell_type": "code",
      "source": [
        "# tensor에서 마지막 토큰을 잘라내서 소스 문장을 생성합니다\n",
        "# 마지막 토큰은 <end>가 아니라 <pad>일 가능성이 높습니다.\n",
        "src_input = tensor[:, :-1]  \n",
        "# tensor에서 <start>를 잘라내서 타겟 문장을 생성합니다.\n",
        "tgt_input = tensor[:, 1:]    \n",
        "\n",
        "print(src_input[0])\n",
        "print(tgt_input[0])"
      ],
      "metadata": {
        "colab": {
          "base_uri": "https://localhost:8080/"
        },
        "id": "hA83fy1Ju0VV",
        "outputId": "9d393930-b1fc-413b-8fb1-61b8a3bc9a3d"
      },
      "id": "hA83fy1Ju0VV",
      "execution_count": 9,
      "outputs": [
        {
          "output_type": "stream",
          "name": "stdout",
          "text": [
            "[  2  35 185 155  33  41 332   7 107   3   0   0   0   0]\n",
            "[ 35 185 155  33  41 332   7 107   3   0   0   0   0   0]\n"
          ]
        }
      ]
    },
    {
      "cell_type": "code",
      "source": [
        "from sklearn.model_selection import train_test_split\n",
        "\n",
        "enc_train, enc_val, dec_train, dec_val = train_test_split(src_input, tgt_input, test_size=0.2, shuffle= True, random_state= 1)"
      ],
      "metadata": {
        "id": "mV8ljVF34KGN"
      },
      "id": "mV8ljVF34KGN",
      "execution_count": 10,
      "outputs": []
    },
    {
      "cell_type": "code",
      "source": [
        "BUFFER_SIZE = len(src_input)\n",
        "BATCH_SIZE = 256\n",
        "steps_per_epoch = len(src_input) // BATCH_SIZE\n",
        "\n",
        " # tokenizer가 구축한 단어사전 내 7000개와, 여기 포함되지 않은 0:<pad>를 포함하여 7001개\n",
        "VOCAB_SIZE = tokenizer.num_words + 1   \n",
        "\n",
        "# 준비한 데이터 소스로부터 데이터셋을 만듭니다\n",
        "# 데이터셋에 대해서는 아래 문서를 참고하세요\n",
        "# 자세히 알아둘수록 도움이 많이 되는 중요한 문서입니다\n",
        "# https://www.tensorflow.org/api_docs/python/tf/data/Dataset\n",
        "dataset = tf.data.Dataset.from_tensor_slices((src_input, tgt_input))\n",
        "dataset = dataset.shuffle(BUFFER_SIZE)\n",
        "dataset = dataset.batch(BATCH_SIZE, drop_remainder=True)\n",
        "dataset"
      ],
      "metadata": {
        "colab": {
          "base_uri": "https://localhost:8080/"
        },
        "id": "vSvSl5JaugeE",
        "outputId": "9ad1ab76-59a8-4878-c744-b29a1348befb"
      },
      "id": "vSvSl5JaugeE",
      "execution_count": 11,
      "outputs": [
        {
          "output_type": "execute_result",
          "data": {
            "text/plain": [
              "<BatchDataset element_spec=(TensorSpec(shape=(256, 14), dtype=tf.int32, name=None), TensorSpec(shape=(256, 14), dtype=tf.int32, name=None))>"
            ]
          },
          "metadata": {},
          "execution_count": 11
        }
      ]
    },
    {
      "cell_type": "code",
      "source": [
        "\n",
        "class TextGenerator(tf.keras.Model):\n",
        "    def __init__(self, vocab_size, embedding_size, hidden_size):\n",
        "        super().__init__()\n",
        "        \n",
        "        self.embedding = tf.keras.layers.Embedding(vocab_size, embedding_size)\n",
        "        self.rnn_1 = tf.keras.layers.LSTM(hidden_size, activation='relu', return_sequences=True)\n",
        "        self.rnn_2 = tf.keras.layers.LSTM(hidden_size, return_sequences=True)\n",
        "        self.linear = tf.keras.layers.Dense(vocab_size)\n",
        "        \n",
        "    def call(self, x):\n",
        "        out = self.embedding(x)\n",
        "        out = self.rnn_1(out)\n",
        "        out = self.rnn_2(out)\n",
        "        out = self.linear(out)\n",
        "        \n",
        "        return out\n",
        "    \n",
        "embedding_size = 128\n",
        "hidden_size = 512\n",
        "model = TextGenerator(tokenizer.num_words + 1, embedding_size , hidden_size)"
      ],
      "metadata": {
        "id": "5wl3NBd2ugoc",
        "colab": {
          "base_uri": "https://localhost:8080/"
        },
        "outputId": "eac223d4-2ad4-4c4f-91d6-81cceb3be2d5"
      },
      "id": "5wl3NBd2ugoc",
      "execution_count": 12,
      "outputs": [
        {
          "output_type": "stream",
          "name": "stdout",
          "text": [
            "WARNING:tensorflow:Layer lstm will not use cuDNN kernels since it doesn't meet the criteria. It will use a generic GPU kernel as fallback when running on GPU.\n"
          ]
        }
      ]
    },
    {
      "cell_type": "code",
      "source": [
        "# 데이터셋에서 데이터 한 배치만 불러오는 방법입니다.\n",
        "# 지금은 동작 원리에 너무 빠져들지 마세요~\n",
        "for src_sample, tgt_sample in dataset.take(1): break\n",
        "\n",
        "# 한 배치만 불러온 데이터를 모델에 넣어봅니다\n",
        "model(src_sample)"
      ],
      "metadata": {
        "colab": {
          "base_uri": "https://localhost:8080/"
        },
        "id": "xn9_72RLugrn",
        "outputId": "d67b993a-4466-4a5a-c366-1dbf79099a70"
      },
      "id": "xn9_72RLugrn",
      "execution_count": 13,
      "outputs": [
        {
          "output_type": "execute_result",
          "data": {
            "text/plain": [
              "<tf.Tensor: shape=(256, 14, 12001), dtype=float32, numpy=\n",
              "array([[[ 4.15842187e-05, -2.22872768e-05, -6.76756899e-05, ...,\n",
              "         -3.97178628e-05, -6.97288342e-05,  5.75243648e-05],\n",
              "        [ 9.82242709e-05,  2.11547813e-05, -1.12287335e-05, ...,\n",
              "         -1.84785851e-04, -4.90492057e-05,  6.38150013e-05],\n",
              "        [ 2.27055978e-04,  2.42815167e-05, -1.16236533e-05, ...,\n",
              "         -2.44586961e-04, -1.22585087e-04,  9.05500565e-05],\n",
              "        ...,\n",
              "        [ 6.77112781e-04, -1.64748146e-03, -9.33694246e-04, ...,\n",
              "         -1.14233419e-03, -1.54577883e-05, -1.46940016e-04],\n",
              "        [ 6.12364383e-04, -1.84252148e-03, -1.02752086e-03, ...,\n",
              "         -1.26208935e-03,  2.49427630e-05, -2.07559846e-04],\n",
              "        [ 5.33432001e-04, -2.00604554e-03, -1.09875202e-03, ...,\n",
              "         -1.37552433e-03,  6.66561682e-05, -2.64391419e-04]],\n",
              "\n",
              "       [[ 4.15842187e-05, -2.22872768e-05, -6.76756899e-05, ...,\n",
              "         -3.97178628e-05, -6.97288342e-05,  5.75243648e-05],\n",
              "        [ 1.19893200e-04, -4.45179503e-05, -1.28600965e-04, ...,\n",
              "         -1.68251048e-04, -1.13183487e-04,  2.02120791e-04],\n",
              "        [ 2.36897991e-04, -7.46317310e-05, -2.57362670e-04, ...,\n",
              "         -4.14625742e-04, -1.39132782e-04,  4.94986714e-04],\n",
              "        ...,\n",
              "        [ 7.71770719e-04, -1.76913443e-03, -1.21675211e-03, ...,\n",
              "         -1.28249836e-03,  9.49988134e-06,  1.56926726e-05],\n",
              "        [ 6.87760301e-04, -1.92522898e-03, -1.26008119e-03, ...,\n",
              "         -1.37588102e-03,  6.46548142e-05, -7.90578415e-05],\n",
              "        [ 5.92591939e-04, -2.05761613e-03, -1.29004673e-03, ...,\n",
              "         -1.46724074e-03,  1.15048249e-04, -1.64095691e-04]],\n",
              "\n",
              "       [[ 4.15842187e-05, -2.22872768e-05, -6.76756899e-05, ...,\n",
              "         -3.97178628e-05, -6.97288342e-05,  5.75243648e-05],\n",
              "        [ 9.46116706e-05, -1.44744889e-04, -1.83120894e-04, ...,\n",
              "         -2.59938388e-04, -4.78347829e-05,  1.59661737e-04],\n",
              "        [ 8.82353925e-05, -2.95562641e-04, -2.18425252e-04, ...,\n",
              "         -4.16137307e-04,  2.68864624e-05,  3.03210196e-04],\n",
              "        ...,\n",
              "        [ 4.52250941e-04, -6.38578844e-04, -1.16614894e-04, ...,\n",
              "         -1.22037844e-03, -2.83571542e-04,  2.30967009e-04],\n",
              "        [ 5.56461106e-04, -9.12098330e-04, -3.41345527e-04, ...,\n",
              "         -1.26330531e-03, -2.64876755e-04,  1.65559104e-04],\n",
              "        [ 6.18433463e-04, -1.17710105e-03, -5.46078489e-04, ...,\n",
              "         -1.32283464e-03, -2.34597755e-04,  1.02568032e-04]],\n",
              "\n",
              "       ...,\n",
              "\n",
              "       [[ 4.15842187e-05, -2.22872768e-05, -6.76756899e-05, ...,\n",
              "         -3.97178628e-05, -6.97288342e-05,  5.75243648e-05],\n",
              "        [ 1.18682008e-04, -1.59669202e-04, -9.11267562e-05, ...,\n",
              "         -1.64443976e-04, -5.61417692e-05,  2.02077325e-04],\n",
              "        [ 2.24384465e-04, -2.20493937e-04, -2.21471448e-04, ...,\n",
              "         -4.28695028e-04, -7.92448191e-05,  4.69363353e-04],\n",
              "        ...,\n",
              "        [ 6.18329679e-04, -9.10158153e-04, -4.34762129e-04, ...,\n",
              "         -1.04924105e-03, -3.10323201e-04,  5.77864237e-04],\n",
              "        [ 6.67265151e-04, -1.15038408e-03, -6.58384815e-04, ...,\n",
              "         -1.08187797e-03, -3.04367772e-04,  4.12778405e-04],\n",
              "        [ 6.86343992e-04, -1.38251251e-03, -8.49634467e-04, ...,\n",
              "         -1.13804510e-03, -2.75247352e-04,  2.64090486e-04]],\n",
              "\n",
              "       [[ 4.15842187e-05, -2.22872768e-05, -6.76756899e-05, ...,\n",
              "         -3.97178628e-05, -6.97288342e-05,  5.75243648e-05],\n",
              "        [ 1.04501087e-04, -3.59639344e-05, -1.74107015e-04, ...,\n",
              "         -1.69360850e-04, -9.87764652e-05,  2.54289218e-04],\n",
              "        [ 1.87028272e-04, -2.46533473e-05, -1.86217920e-04, ...,\n",
              "         -3.88451503e-04, -7.18874144e-05,  4.18958138e-04],\n",
              "        ...,\n",
              "        [ 7.94515421e-04, -1.49973063e-03, -8.89521674e-04, ...,\n",
              "         -1.19836512e-03, -1.95355788e-05, -4.73297987e-05],\n",
              "        [ 7.65148958e-04, -1.70872721e-03, -9.89431981e-04, ...,\n",
              "         -1.28154166e-03,  6.77112848e-06, -1.17428033e-04],\n",
              "        [ 7.08215637e-04, -1.88756385e-03, -1.06643722e-03, ...,\n",
              "         -1.36955630e-03,  4.26852894e-05, -1.80488656e-04]],\n",
              "\n",
              "       [[ 4.15842187e-05, -2.22872768e-05, -6.76756899e-05, ...,\n",
              "         -3.97178628e-05, -6.97288342e-05,  5.75243648e-05],\n",
              "        [ 1.39095777e-04, -8.00051348e-05, -1.36715797e-04, ...,\n",
              "         -1.40173652e-04, -7.63840799e-05,  1.01268619e-04],\n",
              "        [ 1.84351637e-04, -1.03555874e-04, -1.40685661e-04, ...,\n",
              "         -3.50571674e-04, -1.15522635e-04,  2.18482921e-04],\n",
              "        ...,\n",
              "        [ 6.18103426e-04, -1.42018788e-03, -1.00212696e-03, ...,\n",
              "         -1.26147072e-03, -1.35602459e-04, -5.59101281e-05],\n",
              "        [ 5.72294637e-04, -1.62286626e-03, -1.08725415e-03, ...,\n",
              "         -1.35733502e-03, -7.66461453e-05, -1.20365126e-04],\n",
              "        [ 5.08758239e-04, -1.79846073e-03, -1.15197373e-03, ...,\n",
              "         -1.45046553e-03, -1.76246849e-05, -1.81716823e-04]]],\n",
              "      dtype=float32)>"
            ]
          },
          "metadata": {},
          "execution_count": 13
        }
      ]
    },
    {
      "cell_type": "code",
      "source": [
        "model.summary()"
      ],
      "metadata": {
        "colab": {
          "base_uri": "https://localhost:8080/"
        },
        "id": "gC2h-QPhuguZ",
        "outputId": "95041832-6b63-49a9-a742-6f00bb0dbaa5"
      },
      "id": "gC2h-QPhuguZ",
      "execution_count": 14,
      "outputs": [
        {
          "output_type": "stream",
          "name": "stdout",
          "text": [
            "Model: \"text_generator\"\n",
            "_________________________________________________________________\n",
            " Layer (type)                Output Shape              Param #   \n",
            "=================================================================\n",
            " embedding (Embedding)       multiple                  1536128   \n",
            "                                                                 \n",
            " lstm (LSTM)                 multiple                  1312768   \n",
            "                                                                 \n",
            " lstm_1 (LSTM)               multiple                  2099200   \n",
            "                                                                 \n",
            " dense (Dense)               multiple                  6156513   \n",
            "                                                                 \n",
            "=================================================================\n",
            "Total params: 11,104,609\n",
            "Trainable params: 11,104,609\n",
            "Non-trainable params: 0\n",
            "_________________________________________________________________\n"
          ]
        }
      ]
    },
    {
      "cell_type": "code",
      "source": [
        "# optimizer와 loss등은 차차 배웁니다\n",
        "# 혹시 미리 알고 싶다면 아래 문서를 참고하세요\n",
        "# https://www.tensorflow.org/api_docs/python/tf/keras/optimizers\n",
        "# https://www.tensorflow.org/api_docs/python/tf/keras/losses\n",
        "# 양이 상당히 많은 편이니 지금 보는 것은 추천하지 않습니다\n",
        "optimizer = tf.keras.optimizers.Adam()\n",
        "loss = tf.keras.losses.SparseCategoricalCrossentropy(\n",
        "    from_logits=True,\n",
        "    reduction='none'\n",
        ")\n",
        "\n",
        "model.compile(loss=loss, optimizer=optimizer)\n",
        "\n",
        "history= model.fit(enc_train, dec_train,\n",
        "          epochs=10,\n",
        "          validation_data=(enc_val,dec_val),\n",
        "          batch_size=256,\n",
        "          verbose=1)"
      ],
      "metadata": {
        "colab": {
          "base_uri": "https://localhost:8080/"
        },
        "id": "xD8YgLyvuhPh",
        "outputId": "51e1c8e3-37ea-4188-d9f5-06b038c30ff9"
      },
      "id": "xD8YgLyvuhPh",
      "execution_count": 15,
      "outputs": [
        {
          "output_type": "stream",
          "name": "stdout",
          "text": [
            "Epoch 1/10\n",
            "550/550 [==============================] - 46s 75ms/step - loss: 4.6225 - val_loss: 4.4277\n",
            "Epoch 2/10\n",
            "550/550 [==============================] - 41s 74ms/step - loss: 4.4411 - val_loss: 4.3349\n",
            "Epoch 3/10\n",
            "550/550 [==============================] - 41s 74ms/step - loss: 4.2133 - val_loss: 4.1303\n",
            "Epoch 4/10\n",
            "550/550 [==============================] - 34s 62ms/step - loss: 4.4185 - val_loss: 4.6896\n",
            "Epoch 5/10\n",
            "550/550 [==============================] - 34s 61ms/step - loss: 4.2662 - val_loss: 4.1765\n",
            "Epoch 6/10\n",
            "550/550 [==============================] - 33s 61ms/step - loss: 3.9969 - val_loss: 3.9470\n",
            "Epoch 7/10\n",
            "550/550 [==============================] - 33s 61ms/step - loss: 3.9321 - val_loss: 3.9049\n",
            "Epoch 8/10\n",
            "550/550 [==============================] - 33s 61ms/step - loss: 3.7244 - val_loss: 3.5306\n",
            "Epoch 9/10\n",
            "550/550 [==============================] - 33s 61ms/step - loss: 3.4092 - val_loss: 3.3826\n",
            "Epoch 10/10\n",
            "550/550 [==============================] - 33s 61ms/step - loss: 3.2560 - val_loss: 3.2426\n"
          ]
        }
      ]
    },
    {
      "cell_type": "code",
      "source": [
        "#################### epoch 별 loss 시각화 #################################################\n",
        "import numpy as np\n",
        "import matplotlib.pyplot as plt\n",
        "\n",
        "y_vloss = history.history['val_loss']\n",
        "y_loss = history.history['loss']\n",
        "\n",
        "x_len = np.arange(len(y_loss))\n",
        "plt.plot(x_len, y_vloss, marker='.', c='red', label=\"Validation-set Loss\")\n",
        "plt.plot(x_len, y_loss, marker='.', c='blue', label=\"Train-set Loss\")\n",
        "\n",
        "plt.legend(loc='upper right')\n",
        "plt.grid()\n",
        "plt.xlabel('epoch')\n",
        "plt.ylabel('loss')\n",
        "plt.show()"
      ],
      "metadata": {
        "colab": {
          "base_uri": "https://localhost:8080/",
          "height": 279
        },
        "id": "4aewJmKgAgq5",
        "outputId": "d2a0b7bd-307a-47f5-e78a-ccaeeed9689d"
      },
      "id": "4aewJmKgAgq5",
      "execution_count": 16,
      "outputs": [
        {
          "output_type": "display_data",
          "data": {
            "text/plain": [
              "<Figure size 432x288 with 1 Axes>"
            ],
            "image/png": "[encoded data removed]"
          },
          "metadata": {
            "needs_background": "light"
          }
        }
      ]
    },
    {
      "cell_type": "code",
      "source": [
        "def generate_text(model, tokenizer, init_sentence=\"<start>\", max_len=20):\n",
        "    # 테스트를 위해서 입력받은 init_sentence도 텐서로 변환합니다\n",
        "    test_input = tokenizer.texts_to_sequences([init_sentence])\n",
        "    test_tensor = tf.convert_to_tensor(test_input, dtype=tf.int64)\n",
        "    end_token = tokenizer.word_index[\"<end>\"]\n",
        "\n",
        "    # 단어 하나씩 예측해 문장을 만듭니다\n",
        "    #    1. 입력받은 문장의 텐서를 입력합니다\n",
        "    #    2. 예측된 값 중 가장 높은 확률인 word index를 뽑아냅니다\n",
        "    #    3. 2에서 예측된 word index를 문장 뒤에 붙입니다\n",
        "    #    4. 모델이 <end>를 예측했거나, max_len에 도달했다면 문장 생성을 마칩니다\n",
        "    while True:\n",
        "        # 1\n",
        "        predict = model(test_tensor) \n",
        "        # 2\n",
        "        predict_word = tf.argmax(tf.nn.softmax(predict, axis=-1), axis=-1)[:, -1] \n",
        "        # 3 \n",
        "        test_tensor = tf.concat([test_tensor, tf.expand_dims(predict_word, axis=0)], axis=-1)\n",
        "        # 4\n",
        "        if predict_word.numpy()[0] == end_token: break\n",
        "        if test_tensor.shape[1] >= max_len: break\n",
        "\n",
        "    generated = \"\"\n",
        "    # tokenizer를 이용해 word index를 단어로 하나씩 변환합니다 \n",
        "    for word_index in test_tensor[0].numpy():\n",
        "        generated += tokenizer.index_word[word_index] + \" \"\n",
        "\n",
        "    return generated"
      ],
      "metadata": {
        "id": "-vk_iiDW0lyC"
      },
      "id": "-vk_iiDW0lyC",
      "execution_count": 17,
      "outputs": []
    },
    {
      "cell_type": "code",
      "execution_count": 18,
      "metadata": {
        "id": "j4NWnXMggcND"
      },
      "outputs": [],
      "source": [
        "#Loss\n",
        "loss = tf.keras.losses.SparseCategoricalCrossentropy(\n",
        "    from_logits=True, reduction='none')"
      ],
      "id": "j4NWnXMggcND"
    },
    {
      "cell_type": "code",
      "execution_count": 19,
      "metadata": {
        "id": "Cwk5ikB0g0dm",
        "colab": {
          "base_uri": "https://localhost:8080/",
          "height": 35
        },
        "outputId": "3e812c00-0c19-437d-a727-5015faa6c06f"
      },
      "outputs": [
        {
          "output_type": "execute_result",
          "data": {
            "text/plain": [
              "'<start> i love you be <end> '"
            ],
            "application/vnd.google.colaboratory.intrinsic+json": {
              "type": "string"
            }
          },
          "metadata": {},
          "execution_count": 19
        }
      ],
      "source": [
        "generate_text(model, tokenizer, init_sentence=\"<start> i love\", max_len=20)"
      ],
      "id": "Cwk5ikB0g0dm"
    },
    {
      "cell_type": "code",
      "execution_count": null,
      "metadata": {
        "id": "0zB7r1ULg0g-"
      },
      "outputs": [],
      "source": [
        "# embedding_size, maxlen, hidden_size, optimizer"
      ],
      "id": "0zB7r1ULg0g-"
    }
  ],
  "metadata": {
    "accelerator": "GPU",
    "colab": {
      "name": "EXP6.ipynb",
      "provenance": [],
      "machine_shape": "hm",
      "collapsed_sections": []
    },
    "kernelspec": {
      "display_name": "Python 3 (ipykernel)",
      "language": "python",
      "name": "python3"
    },
    "language_info": {
      "codemirror_mode": {
        "name": "ipython",
        "version": 3
      },
      "file_extension": ".py",
      "mimetype": "text/x-python",
      "name": "python",
      "nbconvert_exporter": "python",
      "pygments_lexer": "ipython3",
      "version": "3.9.7"
    }
  },
  "nbformat": 4,
  "nbformat_minor": 5
}