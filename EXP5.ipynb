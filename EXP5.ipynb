{
 "cells": [
  {
   "cell_type": "markdown",
   "id": "bbcb6c7f",
   "metadata": {},
   "source": [
    "## 가위바위보 분류기 만들기"
   ]
  },
  {
   "cell_type": "code",
   "execution_count": 1,
   "id": "052623a8",
   "metadata": {},
   "outputs": [
    {
     "name": "stdout",
     "output_type": "stream",
     "text": [
      "2.6.0\n",
      "1.22.2\n"
     ]
    }
   ],
   "source": [
    "import tensorflow as tf\n",
    "import numpy as np\n",
    "\n",
    "print(tf.__version__)\n",
    "print(np.__version__)"
   ]
  },
  {
   "cell_type": "code",
   "execution_count": 2,
   "id": "8bceb8eb",
   "metadata": {},
   "outputs": [],
   "source": [
    "from PIL import Image\n",
    "import glob\n",
    "import os"
   ]
  },
  {
   "cell_type": "code",
   "execution_count": 3,
   "id": "8fa1f8cf",
   "metadata": {},
   "outputs": [
    {
     "name": "stdout",
     "output_type": "stream",
     "text": [
      "100  images to be resized.\n",
      "100  images resized.\n",
      "가위 이미지 resize 완료!\n"
     ]
    },
    {
     "data": {
      "image/png": "[encoded data removed]",
      "text/plain": [
       "<PIL.JpegImagePlugin.JpegImageFile image mode=RGB size=28x28 at 0x7FDB23D6CFA0>"
      ]
     },
     "metadata": {},
     "output_type": "display_data"
    },
    {
     "name": "stdout",
     "output_type": "stream",
     "text": [
      "(28, 28)\n"
     ]
    }
   ],
   "source": [
    "def resize_images(img_path):\n",
    "\timages=glob.glob(img_path + \"/*.jpg\")  \n",
    "    \n",
    "\tprint(len(images), \" images to be resized.\")\n",
    "\n",
    "    # 파일마다 모두 28x28 사이즈로 바꾸어 저장합니다.\n",
    "\ttarget_size=(28,28)\n",
    "\tfor img in images:\n",
    "\t\told_img=Image.open(img)\n",
    "\t\tnew_img=old_img.resize(target_size,Image.ANTIALIAS)\n",
    "\t\tnew_img.save(img, \"JPEG\")\n",
    "    \n",
    "\tprint(len(images), \" images resized.\")\n",
    "\t\n",
    "# 가위 이미지가 저장된 디렉토리 아래의 모든 jpg 파일을 읽어들여서\n",
    "image_dir_path = os.getenv(\"HOME\") + \"/aiffel/rock_scissor_paper/scissor\"\n",
    "resize_images(image_dir_path)\n",
    "\n",
    "print(\"가위 이미지 resize 완료!\")\n",
    "\n",
    "from PIL import Image\n",
    "import os\n",
    "\n",
    "image_path = os.getenv('HOME')+'/aiffel/rock_scissor_paper/scissor/0.jpg'\n",
    "img = Image.open(image_path)\n",
    "img.show()\n",
    "ima_size = img.size\n",
    "print(ima_size)"
   ]
  },
  {
   "cell_type": "code",
   "execution_count": 4,
   "id": "21d1b562",
   "metadata": {},
   "outputs": [
    {
     "name": "stdout",
     "output_type": "stream",
     "text": [
      "100  images to be resized.\n",
      "100  images resized.\n"
     ]
    }
   ],
   "source": [
    "# 바위 이미지가 저장된 디렉토리 아래의 모든 jpg 파일을 읽어들여서\n",
    "image_dir_path = os.getenv(\"HOME\") + \"/aiffel/rock_scissor_paper/rock\"\n",
    "# 파일마다 모두 28x28 사이즈로 바꾸어 저장합니다.\n",
    "resize_images(image_dir_path)"
   ]
  },
  {
   "cell_type": "code",
   "execution_count": 5,
   "id": "0ac1cf2e",
   "metadata": {},
   "outputs": [
    {
     "name": "stdout",
     "output_type": "stream",
     "text": [
      "100  images to be resized.\n",
      "100  images resized.\n"
     ]
    }
   ],
   "source": [
    "# 보 이미지가 저장된 디렉토리 아래의 모든 jpg 파일을 읽어들여서\n",
    "image_dir_path = os.getenv(\"HOME\") + \"/aiffel/rock_scissor_paper/paper\"\n",
    "#28x28 사이즈로 바꾸어 저장합니다.\n",
    "resize_images(image_dir_path)"
   ]
  },
  {
   "cell_type": "code",
   "execution_count": 6,
   "id": "dfeed147",
   "metadata": {},
   "outputs": [
    {
     "name": "stdout",
     "output_type": "stream",
     "text": [
      "학습데이터(x_train)의 이미지 개수는 300 입니다.\n",
      "x_train shape: (300, 28, 28, 3)\n",
      "y_train shape: (300,)\n"
     ]
    }
   ],
   "source": [
    "import numpy as np\n",
    "\n",
    "def load_data(img_path, number_of_data=300):  # 가위바위보 이미지 개수 총합에 주의하세요.\n",
    "    # 가위 : 0, 바위 : 1, 보 : 2\n",
    "    img_size=28\n",
    "    color=3\n",
    "    #이미지 데이터와 라벨(가위 : 0, 바위 : 1, 보 : 2) 데이터를 담을 행렬(matrix) 영역을 생성합니다.\n",
    "    imgs=np.zeros(number_of_data*img_size*img_size*color,dtype=np.int32).reshape(number_of_data,img_size,img_size,color)\n",
    "    labels=np.zeros(number_of_data,dtype=np.int32)\n",
    "\n",
    "    idx=0\n",
    "    for file in glob.iglob(img_path+'/scissor/*.jpg'):\n",
    "        img = np.array(Image.open(file),dtype=np.int32)\n",
    "        imgs[idx,:,:,:]=img    # 데이터 영역에 이미지 행렬을 복사\n",
    "        labels[idx]=0   # 가위 : 0\n",
    "        idx=idx+1\n",
    "\n",
    "    for file in glob.iglob(img_path+'/rock/*.jpg'):\n",
    "        img = np.array(Image.open(file),dtype=np.int32)\n",
    "        imgs[idx,:,:,:]=img    # 데이터 영역에 이미지 행렬을 복사\n",
    "        labels[idx]=1   # 바위 : 1\n",
    "        idx=idx+1  \n",
    "    \n",
    "    for file in glob.iglob(img_path+'/paper/*.jpg'):\n",
    "        img = np.array(Image.open(file),dtype=np.int32)\n",
    "        imgs[idx,:,:,:]=img    # 데이터 영역에 이미지 행렬을 복사\n",
    "        labels[idx]=2   # 보 : 2\n",
    "        idx=idx+1\n",
    "        \n",
    "    print(\"학습데이터(x_train)의 이미지 개수는\", idx,\"입니다.\")\n",
    "    return imgs, labels\n",
    "\n",
    "image_dir_path = os.getenv(\"HOME\") + \"/aiffel/rock_scissor_paper/test\"\n",
    "(x_train, y_train)=load_data(image_dir_path)\n",
    "x_train_norm = x_train/255.0   # 입력은 0~1 사이의 값으로 정규화\n",
    "\n",
    "print(\"x_train shape: {}\".format(x_train.shape))\n",
    "print(\"y_train shape: {}\".format(y_train.shape))"
   ]
  },
  {
   "cell_type": "code",
   "execution_count": 7,
   "id": "a967163a",
   "metadata": {},
   "outputs": [
    {
     "name": "stdout",
     "output_type": "stream",
     "text": [
      "라벨:  0\n"
     ]
    },
    {
     "data": {
      "image/png": "[encoded data removed]",
      "text/plain": [
       "<Figure size 432x288 with 1 Axes>"
      ]
     },
     "metadata": {
      "needs_background": "light"
     },
     "output_type": "display_data"
    }
   ],
   "source": [
    "import matplotlib.pyplot as plt\n",
    "plt.imshow(x_train[1])\n",
    "print('라벨: ', y_train[1])"
   ]
  },
  {
   "cell_type": "code",
   "execution_count": 8,
   "id": "89e4fbde",
   "metadata": {},
   "outputs": [
    {
     "name": "stdout",
     "output_type": "stream",
     "text": [
      "Model: \"sequential\"\n",
      "_________________________________________________________________\n",
      "Layer (type)                 Output Shape              Param #   \n",
      "=================================================================\n",
      "conv2d (Conv2D)              (None, 26, 26, 16)        448       \n",
      "_________________________________________________________________\n",
      "max_pooling2d (MaxPooling2D) (None, 13, 13, 16)        0         \n",
      "_________________________________________________________________\n",
      "conv2d_1 (Conv2D)            (None, 11, 11, 32)        4640      \n",
      "_________________________________________________________________\n",
      "max_pooling2d_1 (MaxPooling2 (None, 5, 5, 32)          0         \n",
      "_________________________________________________________________\n",
      "flatten (Flatten)            (None, 800)               0         \n",
      "_________________________________________________________________\n",
      "dense (Dense)                (None, 32)                25632     \n",
      "_________________________________________________________________\n",
      "dense_1 (Dense)              (None, 10)                330       \n",
      "=================================================================\n",
      "Total params: 31,050\n",
      "Trainable params: 31,050\n",
      "Non-trainable params: 0\n",
      "_________________________________________________________________\n"
     ]
    }
   ],
   "source": [
    "import tensorflow as tf\n",
    "from tensorflow import keras\n",
    "import numpy as np\n",
    "\n",
    "# model을 직접 만들어 보세요.\n",
    "# model의 입력/출력부에 특히 유의해 주세요. \n",
    "#가위바위보 데이터셋은 MNIST 데이터셋과 어떤 점이 달라졌나요?\n",
    "#(흑백->칼라, 레이블 10->3)\n",
    "\n",
    "model=keras.models.Sequential()\n",
    "model.add(keras.layers.Conv2D(16, (3,3), activation='relu', input_shape=(28,28,3)))\n",
    "model.add(keras.layers.MaxPool2D(2,2))\n",
    "model.add(keras.layers.Conv2D(32, (3,3), activation='relu'))\n",
    "model.add(keras.layers.MaxPooling2D((2,2)))\n",
    "model.add(keras.layers.Flatten())\n",
    "model.add(keras.layers.Dense(32, activation='relu'))\n",
    "model.add(keras.layers.Dense(10, activation='softmax'))\n",
    "\n",
    "model.summary()"
   ]
  },
  {
   "cell_type": "code",
   "execution_count": 9,
   "id": "ad0477cd",
   "metadata": {
    "scrolled": true
   },
   "outputs": [
    {
     "name": "stdout",
     "output_type": "stream",
     "text": [
      "(300, 28, 28, 3) (300,)\n",
      "Epoch 1/100\n",
      "10/10 [==============================] - 1s 21ms/step - loss: 2.0532 - accuracy: 0.2433\n",
      "Epoch 2/100\n",
      "10/10 [==============================] - 0s 20ms/step - loss: 1.2121 - accuracy: 0.3633\n",
      "Epoch 3/100\n",
      "10/10 [==============================] - 0s 21ms/step - loss: 1.0774 - accuracy: 0.3967\n",
      "Epoch 4/100\n",
      "10/10 [==============================] - 0s 21ms/step - loss: 1.0074 - accuracy: 0.4433\n",
      "Epoch 5/100\n",
      "10/10 [==============================] - 0s 21ms/step - loss: 0.9594 - accuracy: 0.5233\n",
      "Epoch 6/100\n",
      "10/10 [==============================] - 0s 21ms/step - loss: 0.8990 - accuracy: 0.6233\n",
      "Epoch 7/100\n",
      "10/10 [==============================] - 0s 21ms/step - loss: 0.8667 - accuracy: 0.6300\n",
      "Epoch 8/100\n",
      "10/10 [==============================] - 0s 20ms/step - loss: 0.8420 - accuracy: 0.6533\n",
      "Epoch 9/100\n",
      "10/10 [==============================] - 0s 20ms/step - loss: 0.7534 - accuracy: 0.7667\n",
      "Epoch 10/100\n",
      "10/10 [==============================] - 0s 25ms/step - loss: 0.7040 - accuracy: 0.7567\n",
      "Epoch 11/100\n",
      "10/10 [==============================] - 0s 21ms/step - loss: 0.6563 - accuracy: 0.7533\n",
      "Epoch 12/100\n",
      "10/10 [==============================] - 0s 21ms/step - loss: 0.5948 - accuracy: 0.8100\n",
      "Epoch 13/100\n",
      "10/10 [==============================] - 0s 21ms/step - loss: 0.5439 - accuracy: 0.8433\n",
      "Epoch 14/100\n",
      "10/10 [==============================] - 0s 21ms/step - loss: 0.5972 - accuracy: 0.7400\n",
      "Epoch 15/100\n",
      "10/10 [==============================] - 0s 21ms/step - loss: 0.4928 - accuracy: 0.8167\n",
      "Epoch 16/100\n",
      "10/10 [==============================] - 0s 21ms/step - loss: 0.4417 - accuracy: 0.8833\n",
      "Epoch 17/100\n",
      "10/10 [==============================] - 0s 21ms/step - loss: 0.4216 - accuracy: 0.8667\n",
      "Epoch 18/100\n",
      "10/10 [==============================] - 0s 24ms/step - loss: 0.4263 - accuracy: 0.8167\n",
      "Epoch 19/100\n",
      "10/10 [==============================] - 0s 18ms/step - loss: 0.3508 - accuracy: 0.9167\n",
      "Epoch 20/100\n",
      "10/10 [==============================] - 0s 18ms/step - loss: 0.3215 - accuracy: 0.9267\n",
      "Epoch 21/100\n",
      "10/10 [==============================] - 0s 18ms/step - loss: 0.3162 - accuracy: 0.9167\n",
      "Epoch 22/100\n",
      "10/10 [==============================] - 0s 18ms/step - loss: 0.2922 - accuracy: 0.9200\n",
      "Epoch 23/100\n",
      "10/10 [==============================] - 0s 21ms/step - loss: 0.2886 - accuracy: 0.8967\n",
      "Epoch 24/100\n",
      "10/10 [==============================] - 0s 20ms/step - loss: 0.2870 - accuracy: 0.9000\n",
      "Epoch 25/100\n",
      "10/10 [==============================] - 0s 21ms/step - loss: 0.2356 - accuracy: 0.9433\n",
      "Epoch 26/100\n",
      "10/10 [==============================] - 0s 21ms/step - loss: 0.2300 - accuracy: 0.9300\n",
      "Epoch 27/100\n",
      "10/10 [==============================] - 0s 20ms/step - loss: 0.1920 - accuracy: 0.9633\n",
      "Epoch 28/100\n",
      "10/10 [==============================] - 0s 20ms/step - loss: 0.1876 - accuracy: 0.9633\n",
      "Epoch 29/100\n",
      "10/10 [==============================] - 0s 21ms/step - loss: 0.1910 - accuracy: 0.9700\n",
      "Epoch 30/100\n",
      "10/10 [==============================] - 0s 20ms/step - loss: 0.1669 - accuracy: 0.9633\n",
      "Epoch 31/100\n",
      "10/10 [==============================] - 0s 20ms/step - loss: 0.1721 - accuracy: 0.9600\n",
      "Epoch 32/100\n",
      "10/10 [==============================] - 0s 20ms/step - loss: 0.1543 - accuracy: 0.9667\n",
      "Epoch 33/100\n",
      "10/10 [==============================] - 0s 21ms/step - loss: 0.1548 - accuracy: 0.9633\n",
      "Epoch 34/100\n",
      "10/10 [==============================] - 0s 21ms/step - loss: 0.1816 - accuracy: 0.9500\n",
      "Epoch 35/100\n",
      "10/10 [==============================] - 0s 20ms/step - loss: 0.1620 - accuracy: 0.9700\n",
      "Epoch 36/100\n",
      "10/10 [==============================] - 0s 18ms/step - loss: 0.1290 - accuracy: 0.9733\n",
      "Epoch 37/100\n",
      "10/10 [==============================] - 0s 21ms/step - loss: 0.1229 - accuracy: 0.9700\n",
      "Epoch 38/100\n",
      "10/10 [==============================] - 0s 20ms/step - loss: 0.1211 - accuracy: 0.9633\n",
      "Epoch 39/100\n",
      "10/10 [==============================] - 0s 21ms/step - loss: 0.1071 - accuracy: 0.9800\n",
      "Epoch 40/100\n",
      "10/10 [==============================] - 0s 21ms/step - loss: 0.1031 - accuracy: 0.9833\n",
      "Epoch 41/100\n",
      "10/10 [==============================] - 0s 21ms/step - loss: 0.0974 - accuracy: 0.9800\n",
      "Epoch 42/100\n",
      "10/10 [==============================] - 0s 22ms/step - loss: 0.1127 - accuracy: 0.9633\n",
      "Epoch 43/100\n",
      "10/10 [==============================] - 0s 20ms/step - loss: 0.0869 - accuracy: 0.9767\n",
      "Epoch 44/100\n",
      "10/10 [==============================] - 0s 21ms/step - loss: 0.0798 - accuracy: 0.9833\n",
      "Epoch 45/100\n",
      "10/10 [==============================] - 0s 18ms/step - loss: 0.0727 - accuracy: 0.9833\n",
      "Epoch 46/100\n",
      "10/10 [==============================] - 0s 21ms/step - loss: 0.0683 - accuracy: 0.9833\n",
      "Epoch 47/100\n",
      "10/10 [==============================] - 0s 21ms/step - loss: 0.0678 - accuracy: 0.9833\n",
      "Epoch 48/100\n",
      "10/10 [==============================] - 0s 21ms/step - loss: 0.0791 - accuracy: 0.9767\n",
      "Epoch 49/100\n",
      "10/10 [==============================] - 0s 21ms/step - loss: 0.0628 - accuracy: 0.9800\n",
      "Epoch 50/100\n",
      "10/10 [==============================] - 0s 21ms/step - loss: 0.0591 - accuracy: 0.9933\n",
      "Epoch 51/100\n",
      "10/10 [==============================] - 0s 21ms/step - loss: 0.0590 - accuracy: 0.9800\n",
      "Epoch 52/100\n",
      "10/10 [==============================] - 0s 21ms/step - loss: 0.0639 - accuracy: 0.9900\n",
      "Epoch 53/100\n",
      "10/10 [==============================] - 0s 21ms/step - loss: 0.0480 - accuracy: 0.9900\n",
      "Epoch 54/100\n",
      "10/10 [==============================] - 0s 18ms/step - loss: 0.0438 - accuracy: 0.9833\n",
      "Epoch 55/100\n",
      "10/10 [==============================] - 0s 18ms/step - loss: 0.0382 - accuracy: 0.9900\n",
      "Epoch 56/100\n",
      "10/10 [==============================] - 0s 18ms/step - loss: 0.0383 - accuracy: 0.9967\n",
      "Epoch 57/100\n",
      "10/10 [==============================] - 0s 18ms/step - loss: 0.0354 - accuracy: 0.9967\n",
      "Epoch 58/100\n",
      "10/10 [==============================] - 0s 21ms/step - loss: 0.0339 - accuracy: 0.9900\n",
      "Epoch 59/100\n",
      "10/10 [==============================] - 0s 21ms/step - loss: 0.0362 - accuracy: 0.9933\n",
      "Epoch 60/100\n",
      "10/10 [==============================] - 0s 21ms/step - loss: 0.0296 - accuracy: 1.0000\n",
      "Epoch 61/100\n",
      "10/10 [==============================] - 0s 21ms/step - loss: 0.0300 - accuracy: 0.9933\n",
      "Epoch 62/100\n",
      "10/10 [==============================] - 0s 20ms/step - loss: 0.0269 - accuracy: 1.0000\n",
      "Epoch 63/100\n",
      "10/10 [==============================] - 0s 21ms/step - loss: 0.0228 - accuracy: 0.9967\n",
      "Epoch 64/100\n",
      "10/10 [==============================] - 0s 21ms/step - loss: 0.0220 - accuracy: 0.9967\n",
      "Epoch 65/100\n",
      "10/10 [==============================] - 0s 21ms/step - loss: 0.0213 - accuracy: 1.0000\n",
      "Epoch 66/100\n",
      "10/10 [==============================] - 0s 24ms/step - loss: 0.0195 - accuracy: 1.0000\n",
      "Epoch 67/100\n",
      "10/10 [==============================] - 0s 18ms/step - loss: 0.0188 - accuracy: 1.0000\n",
      "Epoch 68/100\n",
      "10/10 [==============================] - 0s 18ms/step - loss: 0.0175 - accuracy: 0.9967\n",
      "Epoch 69/100\n",
      "10/10 [==============================] - 0s 21ms/step - loss: 0.0167 - accuracy: 1.0000\n",
      "Epoch 70/100\n",
      "10/10 [==============================] - 0s 21ms/step - loss: 0.0171 - accuracy: 1.0000\n",
      "Epoch 71/100\n",
      "10/10 [==============================] - 0s 21ms/step - loss: 0.0145 - accuracy: 1.0000\n",
      "Epoch 72/100\n",
      "10/10 [==============================] - 0s 21ms/step - loss: 0.0154 - accuracy: 1.0000\n",
      "Epoch 73/100\n",
      "10/10 [==============================] - 0s 21ms/step - loss: 0.0140 - accuracy: 1.0000\n",
      "Epoch 74/100\n",
      "10/10 [==============================] - 0s 21ms/step - loss: 0.0131 - accuracy: 1.0000\n",
      "Epoch 75/100\n",
      "10/10 [==============================] - 0s 21ms/step - loss: 0.0119 - accuracy: 1.0000\n",
      "Epoch 76/100\n",
      "10/10 [==============================] - 0s 21ms/step - loss: 0.0114 - accuracy: 1.0000\n",
      "Epoch 77/100\n",
      "10/10 [==============================] - 0s 19ms/step - loss: 0.0107 - accuracy: 1.0000\n",
      "Epoch 78/100\n",
      "10/10 [==============================] - 0s 21ms/step - loss: 0.0106 - accuracy: 1.0000\n",
      "Epoch 79/100\n",
      "10/10 [==============================] - 0s 21ms/step - loss: 0.0108 - accuracy: 1.0000\n",
      "Epoch 80/100\n",
      "10/10 [==============================] - 0s 22ms/step - loss: 0.0106 - accuracy: 1.0000\n",
      "Epoch 81/100\n",
      "10/10 [==============================] - 0s 20ms/step - loss: 0.0101 - accuracy: 1.0000\n",
      "Epoch 82/100\n",
      "10/10 [==============================] - 0s 21ms/step - loss: 0.0086 - accuracy: 1.0000\n",
      "Epoch 83/100\n",
      "10/10 [==============================] - 0s 21ms/step - loss: 0.0082 - accuracy: 1.0000\n",
      "Epoch 84/100\n",
      "10/10 [==============================] - 0s 21ms/step - loss: 0.0080 - accuracy: 1.0000\n",
      "Epoch 85/100\n",
      "10/10 [==============================] - 0s 20ms/step - loss: 0.0079 - accuracy: 1.0000\n",
      "Epoch 86/100\n",
      "10/10 [==============================] - 0s 22ms/step - loss: 0.0073 - accuracy: 1.0000\n",
      "Epoch 87/100\n",
      "10/10 [==============================] - 0s 20ms/step - loss: 0.0074 - accuracy: 1.0000\n",
      "Epoch 88/100\n",
      "10/10 [==============================] - 0s 18ms/step - loss: 0.0069 - accuracy: 1.0000\n",
      "Epoch 89/100\n",
      "10/10 [==============================] - 0s 18ms/step - loss: 0.0078 - accuracy: 1.0000\n",
      "Epoch 90/100\n",
      "10/10 [==============================] - 0s 19ms/step - loss: 0.0067 - accuracy: 1.0000\n",
      "Epoch 91/100\n",
      "10/10 [==============================] - 0s 18ms/step - loss: 0.0061 - accuracy: 1.0000\n",
      "Epoch 92/100\n",
      "10/10 [==============================] - 0s 17ms/step - loss: 0.0059 - accuracy: 1.0000\n",
      "Epoch 93/100\n",
      "10/10 [==============================] - 0s 18ms/step - loss: 0.0058 - accuracy: 1.0000\n",
      "Epoch 94/100\n",
      "10/10 [==============================] - 0s 21ms/step - loss: 0.0054 - accuracy: 1.0000\n",
      "Epoch 95/100\n",
      "10/10 [==============================] - 0s 20ms/step - loss: 0.0051 - accuracy: 1.0000\n",
      "Epoch 96/100\n",
      "10/10 [==============================] - 0s 20ms/step - loss: 0.0051 - accuracy: 1.0000\n",
      "Epoch 97/100\n",
      "10/10 [==============================] - 0s 21ms/step - loss: 0.0048 - accuracy: 1.0000\n",
      "Epoch 98/100\n",
      "10/10 [==============================] - 0s 20ms/step - loss: 0.0047 - accuracy: 1.0000\n",
      "Epoch 99/100\n",
      "10/10 [==============================] - 0s 21ms/step - loss: 0.0046 - accuracy: 1.0000\n",
      "Epoch 100/100\n",
      "10/10 [==============================] - 0s 21ms/step - loss: 0.0045 - accuracy: 1.0000\n"
     ]
    },
    {
     "data": {
      "text/plain": [
       "<keras.callbacks.History at 0x7fdb00ccf130>"
      ]
     },
     "execution_count": 9,
     "metadata": {},
     "output_type": "execute_result"
    }
   ],
   "source": [
    "## 딥러닝 네트워크 학습시키기\n",
    "print(x_train_norm.shape, y_train.shape)\n",
    "#x_train_reshaped.shape\n",
    "x_train_reshaped=x_train_norm.reshape(-1, 28, 28, 3)\n",
    "\n",
    "model.compile(optimizer='adam',\n",
    "            loss='sparse_categorical_crossentropy',\n",
    "            metrics=['accuracy'])\n",
    "\n",
    "model.fit(x_train_reshaped, y_train, epochs=100)"
   ]
  },
  {
   "cell_type": "code",
   "execution_count": 10,
   "id": "613742cb",
   "metadata": {},
   "outputs": [
    {
     "name": "stdout",
     "output_type": "stream",
     "text": [
      "100  images to be resized.\n",
      "100  images resized.\n",
      "100  images to be resized.\n",
      "100  images resized.\n",
      "학습데이터(x_train)의 이미지 개수는 300 입니다.\n"
     ]
    }
   ],
   "source": [
    "# x_test, y_test를 만들기\n",
    "image_dir_path = os.getenv(\"HOME\") + \"/aiffel/rock_scissor_paper/test/rock\"\n",
    "resize_images(image_dir_path)\n",
    "image_dir_path = os.getenv(\"HOME\") + \"/aiffel/rock_scissor_paper/test/paper\"\n",
    "resize_images(image_dir_path)\n",
    "\n",
    "image_dir_path = os.getenv(\"HOME\") + \"/aiffel/rock_scissor_paper/test\"\n",
    "(x_test, y_test)=load_data(image_dir_path)\n",
    "x_test_norm = x_test/255.0   # 입력은 0~1 사이의 값으로 정규화\n",
    "x_test_reshaped=x_test_norm.reshape(-1, 28, 28, 3)"
   ]
  },
  {
   "cell_type": "code",
   "execution_count": 11,
   "id": "b55da8be",
   "metadata": {},
   "outputs": [
    {
     "name": "stdout",
     "output_type": "stream",
     "text": [
      "10/10 - 0s - loss: 0.0000e+00 - accuracy: 1.0000\n"
     ]
    }
   ],
   "source": [
    "# 학습된 model을 test 데이터에 적용함\n",
    "\n",
    "test_loss, test_accuracy = model.evaluate(x_test, y_test, verbose=2)\n"
   ]
  },
  {
   "cell_type": "markdown",
   "id": "dc5330ab",
   "metadata": {},
   "source": [
    "### 평가결과: Loss는 0.0 이고, 정확도도 100% 임"
   ]
  },
  {
   "cell_type": "code",
   "execution_count": null,
   "id": "5a149ec8",
   "metadata": {},
   "outputs": [],
   "source": []
  },
  {
   "cell_type": "code",
   "execution_count": null,
   "id": "ed65e469",
   "metadata": {},
   "outputs": [],
   "source": []
  },
  {
   "cell_type": "code",
   "execution_count": null,
   "id": "8e6026e1",
   "metadata": {},
   "outputs": [],
   "source": []
  },
  {
   "cell_type": "code",
   "execution_count": null,
   "id": "ac58b6ee",
   "metadata": {},
   "outputs": [],
   "source": []
  }
 ],
 "metadata": {
  "kernelspec": {
   "display_name": "Python 3 (ipykernel)",
   "language": "python",
   "name": "python3"
  },
  "language_info": {
   "codemirror_mode": {
    "name": "ipython",
    "version": 3
   },
   "file_extension": ".py",
   "mimetype": "text/x-python",
   "name": "python",
   "nbconvert_exporter": "python",
   "pygments_lexer": "ipython3",
   "version": "3.9.7"
  }
 },
 "nbformat": 4,
 "nbformat_minor": 5
}
