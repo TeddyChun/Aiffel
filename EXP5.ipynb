{
  "cells": [
    {
      "cell_type": "markdown",
      "id": "bbcb6c7f",
      "metadata": {
        "id": "bbcb6c7f"
      },
      "source": [
        "## 가위바위보 분류기 만들기\n",
        "- 데이터는 lms에서 제공하는 자료만 사용하였음"
      ]
    },
    {
      "cell_type": "code",
      "execution_count": 1,
      "id": "052623a8",
      "metadata": {
        "colab": {
          "base_uri": "https://localhost:8080/"
        },
        "id": "052623a8",
        "outputId": "efdde645-02cf-4c06-bfc8-53c604cc20de"
      },
      "outputs": [
        {
          "output_type": "stream",
          "name": "stdout",
          "text": [
            "2.8.0\n",
            "1.21.6\n"
          ]
        }
      ],
      "source": [
        "import tensorflow as tf\n",
        "import numpy as np\n",
        "\n",
        "print(tf.__version__)\n",
        "print(np.__version__)"
      ]
    },
    {
      "cell_type": "code",
      "source": [
        "from google.colab import drive\n",
        "drive.mount('/content/drive')"
      ],
      "metadata": {
        "colab": {
          "base_uri": "https://localhost:8080/"
        },
        "id": "lhjCg8rlzZFP",
        "outputId": "fbe9fbe8-aacc-4250-9884-b6cfabdcda24"
      },
      "id": "lhjCg8rlzZFP",
      "execution_count": 2,
      "outputs": [
        {
          "output_type": "stream",
          "name": "stdout",
          "text": [
            "Drive already mounted at /content/drive; to attempt to forcibly remount, call drive.mount(\"/content/drive\", force_remount=True).\n"
          ]
        }
      ]
    },
    {
      "cell_type": "code",
      "source": [
        "from PIL import Image\n",
        "import glob\n",
        "import os\n",
        "from os.path import join\n",
        "!pwd\n",
        "image_path = os.getcwd()+\"/drive/MyDrive/Colab Notebooks/Aiffel/EXP/Data/exp5-input\"\n",
        "\n",
        "\n",
        "image_sample = join(image_path, 'scissor/0.jpg')\n",
        "img = Image.open(image_sample)\n",
        "ima_size = img.size\n",
        "print(ima_size)\n",
        "img.show()\n"
      ],
      "metadata": {
        "colab": {
          "base_uri": "https://localhost:8080/"
        },
        "id": "zYjauUp61IED",
        "outputId": "3e8476d7-3106-4023-e935-ce2f79f69faf"
      },
      "id": "zYjauUp61IED",
      "execution_count": 3,
      "outputs": [
        {
          "output_type": "stream",
          "name": "stdout",
          "text": [
            "/content\n",
            "(28, 28)\n"
          ]
        }
      ]
    },
    {
      "cell_type": "code",
      "execution_count": 4,
      "id": "8fa1f8cf",
      "metadata": {
        "colab": {
          "base_uri": "https://localhost:8080/"
        },
        "id": "8fa1f8cf",
        "outputId": "573b1adc-9e6c-4211-c96d-cb9fea4d96c5"
      },
      "outputs": [
        {
          "output_type": "stream",
          "name": "stdout",
          "text": [
            "100  images to be resized.\n",
            "100  images resized.\n"
          ]
        }
      ],
      "source": [
        "def resize_images(img_path):\n",
        "\timages=glob.glob(img_path + \"/*.jpg\")  \n",
        "    \n",
        "\tprint(len(images), \" images to be resized.\")\n",
        "\n",
        "    # 파일마다 모두 28x28 사이즈로 바꾸어 저장합니다.\n",
        "\ttarget_size=(28,28)\n",
        "\tfor img in images:\n",
        "\t\told_img=Image.open(img)\n",
        "\t\tnew_img=old_img.resize(target_size,Image.ANTIALIAS)\n",
        "\t\tnew_img.save(img, \"JPEG\")\n",
        "    \n",
        "\tprint(len(images), \" images resized.\")\n",
        "\t\n",
        "\n",
        "# 바위 이미지가 저장된 디렉토리 아래의 모든 jpg 파일을 읽어들여서\n",
        "image_dir_path =  image_path + \"/rock\"\n",
        "# 파일마다 모두 28x28 사이즈로 바꾸어 저장합니다.\n",
        "resize_images(image_dir_path)\n"
      ]
    },
    {
      "cell_type": "code",
      "source": [
        "image_sample = join(image_path, 'rock/0.jpg')\n",
        "img = Image.open(image_sample)\n",
        "ima_size = img.size\n",
        "print(ima_size)\n",
        "img.show()"
      ],
      "metadata": {
        "colab": {
          "base_uri": "https://localhost:8080/"
        },
        "id": "HCMOAHO1-EEB",
        "outputId": "dba36372-811a-449f-fc3a-28858f78f762"
      },
      "id": "HCMOAHO1-EEB",
      "execution_count": 5,
      "outputs": [
        {
          "output_type": "stream",
          "name": "stdout",
          "text": [
            "(28, 28)\n"
          ]
        }
      ]
    },
    {
      "cell_type": "code",
      "source": [
        "# 바위 이미지가 저장된 디렉토리 아래의 모든 jpg 파일을 읽어들여서\n",
        "image_dir_path =  image_path + \"/scissor\"\n",
        "# 파일마다 모두 28x28 사이즈로 바꾸어 저장합니다.\n",
        "resize_images(image_dir_path)\n",
        "\n",
        "# 바위 이미지가 저장된 디렉토리 아래의 모든 jpg 파일을 읽어들여서\n",
        "image_dir_path =  image_path + \"/paper\"\n",
        "# 파일마다 모두 28x28 사이즈로 바꾸어 저장합니다.\n",
        "resize_images(image_dir_path)"
      ],
      "metadata": {
        "colab": {
          "base_uri": "https://localhost:8080/"
        },
        "id": "n7PmS-GF-Tke",
        "outputId": "61c53d7c-6aba-4001-c4bd-27ca5caf8ae1"
      },
      "id": "n7PmS-GF-Tke",
      "execution_count": 6,
      "outputs": [
        {
          "output_type": "stream",
          "name": "stdout",
          "text": [
            "100  images to be resized.\n",
            "100  images resized.\n",
            "100  images to be resized.\n",
            "100  images resized.\n"
          ]
        }
      ]
    },
    {
      "cell_type": "code",
      "execution_count": 7,
      "id": "dfeed147",
      "metadata": {
        "colab": {
          "base_uri": "https://localhost:8080/"
        },
        "id": "dfeed147",
        "outputId": "5c6fba26-8392-4606-b2cc-ef1191c8f72e"
      },
      "outputs": [
        {
          "output_type": "stream",
          "name": "stdout",
          "text": [
            "학습데이터(x_train)의 이미지 개수는 300 입니다.\n",
            "x_train shape: (300, 28, 28, 3)\n",
            "y_train shape: (300,)\n"
          ]
        }
      ],
      "source": [
        "import numpy as np\n",
        "\n",
        "def load_data(img_path, number_of_data=300):  # 가위바위보 이미지 개수 총합에 주의하세요.\n",
        "    # 가위 : 0, 바위 : 1, 보 : 2\n",
        "    img_size=28\n",
        "    color=3\n",
        "    #이미지 데이터와 라벨(가위 : 0, 바위 : 1, 보 : 2) 데이터를 담을 행렬(matrix) 영역을 생성합니다.\n",
        "    imgs=np.zeros(number_of_data*img_size*img_size*color,dtype=np.int32).reshape(number_of_data,img_size,img_size,color)\n",
        "    labels=np.zeros(number_of_data,dtype=np.int32)\n",
        "\n",
        "    idx=0\n",
        "    for file in glob.iglob(img_path+'/scissor/*.jpg'):\n",
        "        img = np.array(Image.open(file),dtype=np.int32)\n",
        "        imgs[idx,:,:,:]=img    # 데이터 영역에 이미지 행렬을 복사\n",
        "        labels[idx]=0   # 가위 : 0\n",
        "        idx=idx+1\n",
        "\n",
        "    for file in glob.iglob(img_path+'/rock/*.jpg'):\n",
        "        img = np.array(Image.open(file),dtype=np.int32)\n",
        "        imgs[idx,:,:,:]=img    # 데이터 영역에 이미지 행렬을 복사\n",
        "        labels[idx]=1   # 바위 : 1\n",
        "        idx=idx+1  \n",
        "    \n",
        "    for file in glob.iglob(img_path+'/paper/*.jpg'):\n",
        "        img = np.array(Image.open(file),dtype=np.int32)\n",
        "        imgs[idx,:,:,:]=img    # 데이터 영역에 이미지 행렬을 복사\n",
        "        labels[idx]=2   # 보 : 2\n",
        "        idx=idx+1\n",
        "        \n",
        "    print(\"학습데이터(x_train)의 이미지 개수는\", idx,\"입니다.\")\n",
        "    return imgs, labels\n",
        "\n",
        "(x_train, y_train)=load_data(image_path)\n",
        "x_train_norm = x_train/255.0   # 입력은 0~1 사이의 값으로 정규화\n",
        "\n",
        "print(\"x_train shape: {}\".format(x_train_norm.shape))\n",
        "print(\"y_train shape: {}\".format(y_train.shape))"
      ]
    },
    {
      "cell_type": "code",
      "execution_count": 8,
      "id": "a967163a",
      "metadata": {
        "colab": {
          "base_uri": "https://localhost:8080/",
          "height": 283
        },
        "id": "a967163a",
        "outputId": "48298f3a-d16c-4ac1-eb34-c421ecd00c6b"
      },
      "outputs": [
        {
          "output_type": "stream",
          "name": "stdout",
          "text": [
            "라벨:  0\n"
          ]
        },
        {
          "output_type": "display_data",
          "data": {
            "text/plain": [
              "<Figure size 432x288 with 1 Axes>"
            ],
            "image/png": "[encoded data removed]"
          },
          "metadata": {
            "needs_background": "light"
          }
        }
      ],
      "source": [
        "import matplotlib.pyplot as plt\n",
        "plt.imshow(x_train[1])\n",
        "print('라벨: ', y_train[1])"
      ]
    },
    {
      "cell_type": "code",
      "execution_count": 9,
      "id": "89e4fbde",
      "metadata": {
        "colab": {
          "base_uri": "https://localhost:8080/"
        },
        "id": "89e4fbde",
        "outputId": "975a6c7f-e18f-43f8-a5b7-d63020ba6934"
      },
      "outputs": [
        {
          "output_type": "stream",
          "name": "stdout",
          "text": [
            "Model: \"sequential\"\n",
            "_________________________________________________________________\n",
            " Layer (type)                Output Shape              Param #   \n",
            "=================================================================\n",
            " conv2d (Conv2D)             (None, 26, 26, 32)        896       \n",
            "                                                                 \n",
            " max_pooling2d (MaxPooling2D  (None, 13, 13, 32)       0         \n",
            " )                                                               \n",
            "                                                                 \n",
            " conv2d_1 (Conv2D)           (None, 11, 11, 64)        18496     \n",
            "                                                                 \n",
            " max_pooling2d_1 (MaxPooling  (None, 5, 5, 64)         0         \n",
            " 2D)                                                             \n",
            "                                                                 \n",
            " conv2d_2 (Conv2D)           (None, 3, 3, 48)          27696     \n",
            "                                                                 \n",
            " max_pooling2d_2 (MaxPooling  (None, 1, 1, 48)         0         \n",
            " 2D)                                                             \n",
            "                                                                 \n",
            " flatten (Flatten)           (None, 48)                0         \n",
            "                                                                 \n",
            " dense (Dense)               (None, 32)                1568      \n",
            "                                                                 \n",
            " dense_1 (Dense)             (None, 10)                330       \n",
            "                                                                 \n",
            "=================================================================\n",
            "Total params: 48,986\n",
            "Trainable params: 48,986\n",
            "Non-trainable params: 0\n",
            "_________________________________________________________________\n"
          ]
        }
      ],
      "source": [
        "import tensorflow as tf\n",
        "from tensorflow import keras\n",
        "import numpy as np\n",
        "\n",
        "# model을 직접 만들어 보세요.\n",
        "# model의 입력/출력부에 특히 유의해 주세요. \n",
        "#가위바위보 데이터셋은 MNIST 데이터셋과 어떤 점이 달라졌나요?\n",
        "#(흑백->칼라, 레이블 10->3)\n",
        "\n",
        "model=keras.models.Sequential()\n",
        "model.add(keras.layers.Conv2D(32, (3,3), activation='relu', input_shape=(28,28,3)))\n",
        "model.add(keras.layers.MaxPool2D(2,2))\n",
        "model.add(keras.layers.Conv2D(64, (3,3), activation='relu'))\n",
        "model.add(keras.layers.MaxPooling2D((2,2)))\n",
        "model.add(keras.layers.Conv2D(48, (3,3), activation='relu'))\n",
        "model.add(keras.layers.MaxPooling2D((2,2)))\n",
        "# model.add(keras.layers.Conv2D(16, (3,3), activation='relu'))\n",
        "# model.add(keras.layers.MaxPooling2D((2,2)))\n",
        "model.add(keras.layers.Flatten())\n",
        "model.add(keras.layers.Dense(32, activation='relu'))\n",
        "model.add(keras.layers.Dense(10, activation='softmax'))\n",
        "\n",
        "model.summary()"
      ]
    },
    {
      "cell_type": "code",
      "execution_count": 10,
      "id": "ad0477cd",
      "metadata": {
        "scrolled": true,
        "colab": {
          "base_uri": "https://localhost:8080/"
        },
        "id": "ad0477cd",
        "outputId": "ce2b03a7-3277-4eef-f4ff-c375d749b96b"
      },
      "outputs": [
        {
          "output_type": "stream",
          "name": "stdout",
          "text": [
            "(300, 28, 28, 3) (300,)\n",
            "Epoch 1/100\n",
            "10/10 [==============================] - 1s 38ms/step - loss: 2.0002 - accuracy: 0.3333\n",
            "Epoch 2/100\n",
            "10/10 [==============================] - 0s 38ms/step - loss: 1.2432 - accuracy: 0.3700\n",
            "Epoch 3/100\n",
            "10/10 [==============================] - 0s 36ms/step - loss: 1.1151 - accuracy: 0.3333\n",
            "Epoch 4/100\n",
            "10/10 [==============================] - 0s 38ms/step - loss: 1.1270 - accuracy: 0.3433\n",
            "Epoch 5/100\n",
            "10/10 [==============================] - 0s 40ms/step - loss: 1.1247 - accuracy: 0.3300\n",
            "Epoch 6/100\n",
            "10/10 [==============================] - 0s 36ms/step - loss: 1.1145 - accuracy: 0.3000\n",
            "Epoch 7/100\n",
            "10/10 [==============================] - 0s 40ms/step - loss: 1.1378 - accuracy: 0.3200\n",
            "Epoch 8/100\n",
            "10/10 [==============================] - 0s 45ms/step - loss: 1.1138 - accuracy: 0.3167\n",
            "Epoch 9/100\n",
            "10/10 [==============================] - 0s 37ms/step - loss: 1.1257 - accuracy: 0.3233\n",
            "Epoch 10/100\n",
            "10/10 [==============================] - 0s 40ms/step - loss: 1.1228 - accuracy: 0.3367\n",
            "Epoch 11/100\n",
            "10/10 [==============================] - 0s 38ms/step - loss: 1.1284 - accuracy: 0.3267\n",
            "Epoch 12/100\n",
            "10/10 [==============================] - 0s 38ms/step - loss: 1.1083 - accuracy: 0.3367\n",
            "Epoch 13/100\n",
            "10/10 [==============================] - 0s 40ms/step - loss: 1.1097 - accuracy: 0.3500\n",
            "Epoch 14/100\n",
            "10/10 [==============================] - 0s 36ms/step - loss: 1.1206 - accuracy: 0.3333\n",
            "Epoch 15/100\n",
            "10/10 [==============================] - 0s 39ms/step - loss: 1.1202 - accuracy: 0.3433\n",
            "Epoch 16/100\n",
            "10/10 [==============================] - 0s 37ms/step - loss: 1.0952 - accuracy: 0.4367\n",
            "Epoch 17/100\n",
            "10/10 [==============================] - 0s 39ms/step - loss: 1.1016 - accuracy: 0.3467\n",
            "Epoch 18/100\n",
            "10/10 [==============================] - 0s 40ms/step - loss: 1.1206 - accuracy: 0.3967\n",
            "Epoch 19/100\n",
            "10/10 [==============================] - 0s 39ms/step - loss: 1.1391 - accuracy: 0.3000\n",
            "Epoch 20/100\n",
            "10/10 [==============================] - 0s 38ms/step - loss: 1.1020 - accuracy: 0.3667\n",
            "Epoch 21/100\n",
            "10/10 [==============================] - 0s 41ms/step - loss: 1.0945 - accuracy: 0.4333\n",
            "Epoch 22/100\n",
            "10/10 [==============================] - 0s 40ms/step - loss: 1.1152 - accuracy: 0.3367\n",
            "Epoch 23/100\n",
            "10/10 [==============================] - 0s 40ms/step - loss: 1.0983 - accuracy: 0.3767\n",
            "Epoch 24/100\n",
            "10/10 [==============================] - 0s 38ms/step - loss: 1.0800 - accuracy: 0.3633\n",
            "Epoch 25/100\n",
            "10/10 [==============================] - 0s 41ms/step - loss: 1.0769 - accuracy: 0.3833\n",
            "Epoch 26/100\n",
            "10/10 [==============================] - 0s 42ms/step - loss: 1.0627 - accuracy: 0.5433\n",
            "Epoch 27/100\n",
            "10/10 [==============================] - 0s 41ms/step - loss: 1.0885 - accuracy: 0.3233\n",
            "Epoch 28/100\n",
            "10/10 [==============================] - 0s 41ms/step - loss: 1.0653 - accuracy: 0.5333\n",
            "Epoch 29/100\n",
            "10/10 [==============================] - 0s 39ms/step - loss: 1.0782 - accuracy: 0.4233\n",
            "Epoch 30/100\n",
            "10/10 [==============================] - 0s 39ms/step - loss: 1.0570 - accuracy: 0.5233\n",
            "Epoch 31/100\n",
            "10/10 [==============================] - 0s 43ms/step - loss: 1.0432 - accuracy: 0.4933\n",
            "Epoch 32/100\n",
            "10/10 [==============================] - 0s 39ms/step - loss: 1.0453 - accuracy: 0.5200\n",
            "Epoch 33/100\n",
            "10/10 [==============================] - 0s 40ms/step - loss: 1.0244 - accuracy: 0.5200\n",
            "Epoch 34/100\n",
            "10/10 [==============================] - 0s 41ms/step - loss: 1.0317 - accuracy: 0.4800\n",
            "Epoch 35/100\n",
            "10/10 [==============================] - 0s 40ms/step - loss: 1.0225 - accuracy: 0.5167\n",
            "Epoch 36/100\n",
            "10/10 [==============================] - 0s 42ms/step - loss: 1.0109 - accuracy: 0.5067\n",
            "Epoch 37/100\n",
            "10/10 [==============================] - 0s 40ms/step - loss: 0.9870 - accuracy: 0.5933\n",
            "Epoch 38/100\n",
            "10/10 [==============================] - 0s 42ms/step - loss: 0.9808 - accuracy: 0.5433\n",
            "Epoch 39/100\n",
            "10/10 [==============================] - 0s 39ms/step - loss: 0.9527 - accuracy: 0.5667\n",
            "Epoch 40/100\n",
            "10/10 [==============================] - 0s 42ms/step - loss: 0.9494 - accuracy: 0.5800\n",
            "Epoch 41/100\n",
            "10/10 [==============================] - 0s 43ms/step - loss: 0.9481 - accuracy: 0.5467\n",
            "Epoch 42/100\n",
            "10/10 [==============================] - 0s 39ms/step - loss: 0.9019 - accuracy: 0.6867\n",
            "Epoch 43/100\n",
            "10/10 [==============================] - 0s 43ms/step - loss: 0.9037 - accuracy: 0.5800\n",
            "Epoch 44/100\n",
            "10/10 [==============================] - 0s 42ms/step - loss: 0.8669 - accuracy: 0.6767\n",
            "Epoch 45/100\n",
            "10/10 [==============================] - 0s 41ms/step - loss: 0.8487 - accuracy: 0.6767\n",
            "Epoch 46/100\n",
            "10/10 [==============================] - 0s 42ms/step - loss: 0.8689 - accuracy: 0.6100\n",
            "Epoch 47/100\n",
            "10/10 [==============================] - 0s 40ms/step - loss: 0.8328 - accuracy: 0.6400\n",
            "Epoch 48/100\n",
            "10/10 [==============================] - 0s 41ms/step - loss: 0.8003 - accuracy: 0.7000\n",
            "Epoch 49/100\n",
            "10/10 [==============================] - 0s 40ms/step - loss: 0.8099 - accuracy: 0.6567\n",
            "Epoch 50/100\n",
            "10/10 [==============================] - 0s 44ms/step - loss: 0.7593 - accuracy: 0.7533\n",
            "Epoch 51/100\n",
            "10/10 [==============================] - 0s 39ms/step - loss: 0.7349 - accuracy: 0.7733\n",
            "Epoch 52/100\n",
            "10/10 [==============================] - 0s 38ms/step - loss: 0.7276 - accuracy: 0.7400\n",
            "Epoch 53/100\n",
            "10/10 [==============================] - 0s 40ms/step - loss: 0.6918 - accuracy: 0.7767\n",
            "Epoch 54/100\n",
            "10/10 [==============================] - 0s 38ms/step - loss: 0.6560 - accuracy: 0.8000\n",
            "Epoch 55/100\n",
            "10/10 [==============================] - 0s 38ms/step - loss: 0.6571 - accuracy: 0.7600\n",
            "Epoch 56/100\n",
            "10/10 [==============================] - 0s 38ms/step - loss: 0.6757 - accuracy: 0.7300\n",
            "Epoch 57/100\n",
            "10/10 [==============================] - 0s 37ms/step - loss: 0.6859 - accuracy: 0.7400\n",
            "Epoch 58/100\n",
            "10/10 [==============================] - 0s 41ms/step - loss: 0.6135 - accuracy: 0.7933\n",
            "Epoch 59/100\n",
            "10/10 [==============================] - 0s 34ms/step - loss: 0.5594 - accuracy: 0.8333\n",
            "Epoch 60/100\n",
            "10/10 [==============================] - 0s 44ms/step - loss: 0.5254 - accuracy: 0.8367\n",
            "Epoch 61/100\n",
            "10/10 [==============================] - 0s 39ms/step - loss: 0.5040 - accuracy: 0.8433\n",
            "Epoch 62/100\n",
            "10/10 [==============================] - 0s 37ms/step - loss: 0.4790 - accuracy: 0.8333\n",
            "Epoch 63/100\n",
            "10/10 [==============================] - 0s 38ms/step - loss: 0.4747 - accuracy: 0.8467\n",
            "Epoch 64/100\n",
            "10/10 [==============================] - 0s 38ms/step - loss: 0.4316 - accuracy: 0.8500\n",
            "Epoch 65/100\n",
            "10/10 [==============================] - 0s 37ms/step - loss: 0.4000 - accuracy: 0.8767\n",
            "Epoch 66/100\n",
            "10/10 [==============================] - 0s 37ms/step - loss: 0.3987 - accuracy: 0.8633\n",
            "Epoch 67/100\n",
            "10/10 [==============================] - 0s 40ms/step - loss: 0.3778 - accuracy: 0.8933\n",
            "Epoch 68/100\n",
            "10/10 [==============================] - 0s 38ms/step - loss: 0.3686 - accuracy: 0.8867\n",
            "Epoch 69/100\n",
            "10/10 [==============================] - 0s 39ms/step - loss: 0.3356 - accuracy: 0.8933\n",
            "Epoch 70/100\n",
            "10/10 [==============================] - 0s 39ms/step - loss: 0.3228 - accuracy: 0.9033\n",
            "Epoch 71/100\n",
            "10/10 [==============================] - 0s 39ms/step - loss: 0.3231 - accuracy: 0.9000\n",
            "Epoch 72/100\n",
            "10/10 [==============================] - 0s 37ms/step - loss: 0.2822 - accuracy: 0.9267\n",
            "Epoch 73/100\n",
            "10/10 [==============================] - 0s 37ms/step - loss: 0.2844 - accuracy: 0.9100\n",
            "Epoch 74/100\n",
            "10/10 [==============================] - 0s 39ms/step - loss: 0.2526 - accuracy: 0.9300\n",
            "Epoch 75/100\n",
            "10/10 [==============================] - 0s 33ms/step - loss: 0.2777 - accuracy: 0.9067\n",
            "Epoch 76/100\n",
            "10/10 [==============================] - 0s 35ms/step - loss: 0.2546 - accuracy: 0.9100\n",
            "Epoch 77/100\n",
            "10/10 [==============================] - 0s 36ms/step - loss: 0.2746 - accuracy: 0.8867\n",
            "Epoch 78/100\n",
            "10/10 [==============================] - 0s 38ms/step - loss: 0.2835 - accuracy: 0.8867\n",
            "Epoch 79/100\n",
            "10/10 [==============================] - 0s 37ms/step - loss: 0.2704 - accuracy: 0.9000\n",
            "Epoch 80/100\n",
            "10/10 [==============================] - 0s 40ms/step - loss: 0.2019 - accuracy: 0.9500\n",
            "Epoch 81/100\n",
            "10/10 [==============================] - 0s 37ms/step - loss: 0.2153 - accuracy: 0.9300\n",
            "Epoch 82/100\n",
            "10/10 [==============================] - 0s 38ms/step - loss: 0.2156 - accuracy: 0.9267\n",
            "Epoch 83/100\n",
            "10/10 [==============================] - 0s 37ms/step - loss: 0.2177 - accuracy: 0.9233\n",
            "Epoch 84/100\n",
            "10/10 [==============================] - 0s 37ms/step - loss: 0.2127 - accuracy: 0.9267\n",
            "Epoch 85/100\n",
            "10/10 [==============================] - 0s 37ms/step - loss: 0.2019 - accuracy: 0.9500\n",
            "Epoch 86/100\n",
            "10/10 [==============================] - 0s 38ms/step - loss: 0.1749 - accuracy: 0.9633\n",
            "Epoch 87/100\n",
            "10/10 [==============================] - 0s 40ms/step - loss: 0.1684 - accuracy: 0.9667\n",
            "Epoch 88/100\n",
            "10/10 [==============================] - 0s 36ms/step - loss: 0.1422 - accuracy: 0.9667\n",
            "Epoch 89/100\n",
            "10/10 [==============================] - 0s 38ms/step - loss: 0.1289 - accuracy: 0.9833\n",
            "Epoch 90/100\n",
            "10/10 [==============================] - 0s 40ms/step - loss: 0.1235 - accuracy: 0.9900\n",
            "Epoch 91/100\n",
            "10/10 [==============================] - 0s 38ms/step - loss: 0.1128 - accuracy: 0.9800\n",
            "Epoch 92/100\n",
            "10/10 [==============================] - 0s 38ms/step - loss: 0.1220 - accuracy: 0.9733\n",
            "Epoch 93/100\n",
            "10/10 [==============================] - 0s 38ms/step - loss: 0.1033 - accuracy: 0.9933\n",
            "Epoch 94/100\n",
            "10/10 [==============================] - 0s 33ms/step - loss: 0.1063 - accuracy: 0.9867\n",
            "Epoch 95/100\n",
            "10/10 [==============================] - 0s 34ms/step - loss: 0.0916 - accuracy: 0.9967\n",
            "Epoch 96/100\n",
            "10/10 [==============================] - 0s 38ms/step - loss: 0.0907 - accuracy: 0.9967\n",
            "Epoch 97/100\n",
            "10/10 [==============================] - 0s 38ms/step - loss: 0.1016 - accuracy: 0.9800\n",
            "Epoch 98/100\n",
            "10/10 [==============================] - 0s 40ms/step - loss: 0.0884 - accuracy: 0.9900\n",
            "Epoch 99/100\n",
            "10/10 [==============================] - 0s 38ms/step - loss: 0.0895 - accuracy: 0.9867\n",
            "Epoch 100/100\n",
            "10/10 [==============================] - 0s 37ms/step - loss: 0.0849 - accuracy: 0.9933\n"
          ]
        },
        {
          "output_type": "execute_result",
          "data": {
            "text/plain": [
              "<keras.callbacks.History at 0x7f5f3e135c90>"
            ]
          },
          "metadata": {},
          "execution_count": 10
        }
      ],
      "source": [
        "## 딥러닝 네트워크 학습시키기\n",
        "print(x_train_norm.shape, y_train.shape)\n",
        "#x_train_reshaped.shape\n",
        "x_train_reshaped=x_train_norm.reshape(-1, 28, 28, 3)\n",
        "\n",
        "model.compile(optimizer='adam',\n",
        "            loss='sparse_categorical_crossentropy',\n",
        "            metrics=['accuracy'])\n",
        "\n",
        "model.fit(x_train_reshaped, y_train, epochs=100)"
      ]
    },
    {
      "cell_type": "code",
      "execution_count": 11,
      "id": "613742cb",
      "metadata": {
        "colab": {
          "base_uri": "https://localhost:8080/"
        },
        "id": "613742cb",
        "outputId": "f54016ea-6642-4b26-ba64-7e9af449fb7d"
      },
      "outputs": [
        {
          "output_type": "stream",
          "name": "stdout",
          "text": [
            "100  images to be resized.\n",
            "100  images resized.\n",
            "100  images to be resized.\n",
            "100  images resized.\n",
            "100  images to be resized.\n",
            "100  images resized.\n",
            "학습데이터(x_train)의 이미지 개수는 300 입니다.\n",
            "x_train shape: (300, 28, 28, 3)\n",
            "y_train shape: (300,)\n"
          ]
        }
      ],
      "source": [
        "# x_test, y_test를 만들기\n",
        "image_path_test = image_path+\"/test\"\n",
        "\n",
        "image_dir_path_test = image_path_test+\"/rock\"\n",
        "resize_images(image_dir_path_test)\n",
        "\n",
        "image_dir_path_test = image_path_test+\"/scissor\"\n",
        "resize_images(image_dir_path_test)\n",
        "\n",
        "image_dir_path_test = image_path_test+\"/paper\"\n",
        "resize_images(image_dir_path_test)\n",
        "\n",
        "(x_test, y_test)=load_data(image_path_test)\n",
        "\n",
        "x_test_norm = x_test/255.0   # 입력은 0~1 사이의 값으로 정규화\n",
        "\n",
        "#x_test_reshaped=x_test_norm.reshape(-1, 28, 28, 3)\n",
        "\n",
        "print(\"x_train shape: {}\".format(x_test_norm.shape))\n",
        "print(\"y_train shape: {}\".format(y_test.shape))\n"
      ]
    },
    {
      "cell_type": "code",
      "source": [
        "image_sample = join(image_path_test, 'rock/0.jpg')\n",
        "img = Image.open(image_sample)\n",
        "ima_size = img.size\n",
        "print(ima_size)\n",
        "img.show()"
      ],
      "metadata": {
        "colab": {
          "base_uri": "https://localhost:8080/"
        },
        "id": "k8DlHHFMF8iV",
        "outputId": "3ead797e-dca4-44de-f467-f0e41eb43496"
      },
      "id": "k8DlHHFMF8iV",
      "execution_count": 12,
      "outputs": [
        {
          "output_type": "stream",
          "name": "stdout",
          "text": [
            "(28, 28)\n"
          ]
        }
      ]
    },
    {
      "cell_type": "code",
      "execution_count": 13,
      "id": "b55da8be",
      "metadata": {
        "colab": {
          "base_uri": "https://localhost:8080/"
        },
        "id": "b55da8be",
        "outputId": "599709ca-a2c6-4709-e2bb-d1ab2b7b3e6b"
      },
      "outputs": [
        {
          "output_type": "stream",
          "name": "stdout",
          "text": [
            "10/10 - 0s - loss: 4.6708 - accuracy: 0.5600 - 288ms/epoch - 29ms/step\n"
          ]
        }
      ],
      "source": [
        "# 학습된 model을 test 데이터에 적용함\n",
        "\n",
        "test_loss, test_accuracy = model.evaluate(x_test_norm, y_test, verbose=2)\n"
      ]
    },
    {
      "cell_type": "markdown",
      "id": "dc5330ab",
      "metadata": {
        "id": "dc5330ab"
      },
      "source": [
        "### 평가결과: \n",
        "\n",
        "- Conv2D Layers 16-32    : Accuracy : 37%\n",
        "- Conv2D Layers 16-32-32 : Accuracy : 39%\n",
        "- Conv2D Layers 32-64-64 : Accuracy : 48%\n",
        "- Conv2D Layers 32-64-32 : Accuracy : 50%\n",
        "- Conv2D Layers 32-64-48 : Accuracy : 56%\n",
        "\n",
        "1번 Conv2D Layer가 16에서 32로 늘어나면서 정확도가 증가하였고,  \n",
        "2번 Conv2D Layer가 32에서 64로 늘어나면서 정확도가 증가하였지만,  \n",
        "3번 Conv2D Layer가 64에서 48로 줄면서 정확도가 증가하여  \n",
        "무조건 증가한다고 예측성능이 좋아지지는 않는 것을 알 수 있음"
      ]
    },
    {
      "cell_type": "code",
      "execution_count": 13,
      "id": "5a149ec8",
      "metadata": {
        "id": "5a149ec8"
      },
      "outputs": [],
      "source": [
        ""
      ]
    },
    {
      "cell_type": "code",
      "execution_count": 13,
      "id": "ed65e469",
      "metadata": {
        "id": "ed65e469"
      },
      "outputs": [],
      "source": [
        ""
      ]
    },
    {
      "cell_type": "code",
      "execution_count": 13,
      "id": "8e6026e1",
      "metadata": {
        "id": "8e6026e1"
      },
      "outputs": [],
      "source": [
        ""
      ]
    },
    {
      "cell_type": "code",
      "execution_count": 13,
      "id": "ac58b6ee",
      "metadata": {
        "id": "ac58b6ee"
      },
      "outputs": [],
      "source": [
        ""
      ]
    }
  ],
  "metadata": {
    "kernelspec": {
      "display_name": "Python 3 (ipykernel)",
      "language": "python",
      "name": "python3"
    },
    "language_info": {
      "codemirror_mode": {
        "name": "ipython",
        "version": 3
      },
      "file_extension": ".py",
      "mimetype": "text/x-python",
      "name": "python",
      "nbconvert_exporter": "python",
      "pygments_lexer": "ipython3",
      "version": "3.9.7"
    },
    "colab": {
      "name": "EXP5.ipynb",
      "provenance": []
    }
  },
  "nbformat": 4,
  "nbformat_minor": 5
}