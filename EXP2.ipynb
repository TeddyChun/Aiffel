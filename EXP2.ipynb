{
 "cells": [
  {
   "cell_type": "markdown",
   "id": "38d5b0a8",
   "metadata": {},
   "source": [
    "# 프로젝트 1 : 선형회귀, 당뇨병 수치를 맞추자!"
   ]
  },
  {
   "cell_type": "code",
   "execution_count": 1,
   "id": "00119e27",
   "metadata": {},
   "outputs": [],
   "source": [
    "import sklearn\n",
    "from sklearn.datasets import load_diabetes "
   ]
  },
  {
   "cell_type": "markdown",
   "id": "4af6266a",
   "metadata": {},
   "source": [
    "### (1) 데이터 가져오기"
   ]
  },
  {
   "cell_type": "code",
   "execution_count": 2,
   "id": "eb332c0e",
   "metadata": {},
   "outputs": [
    {
     "data": {
      "text/plain": [
       "dict_keys(['data', 'target', 'frame', 'DESCR', 'feature_names', 'data_filename', 'target_filename', 'data_module'])"
      ]
     },
     "execution_count": 2,
     "metadata": {},
     "output_type": "execute_result"
    }
   ],
   "source": [
    "import pandas as pd\n",
    "diabets = load_diabetes()\n",
    "diabets.keys()"
   ]
  },
  {
   "cell_type": "markdown",
   "id": "f15234ba",
   "metadata": {},
   "source": [
    "### (2)  모델에 입력할 데이터 X, y 준비하기"
   ]
  },
  {
   "cell_type": "code",
   "execution_count": 3,
   "id": "e8867073",
   "metadata": {},
   "outputs": [
    {
     "name": "stdout",
     "output_type": "stream",
     "text": [
      "(442, 10) (442,)\n"
     ]
    }
   ],
   "source": [
    "import numpy as np\n",
    "df_X = np.array(diabets.data)\n",
    "df_y = np.array(diabets.target)\n",
    "\n",
    "print(df_X.shape,df_y.shape)\n",
    "\n",
    "n_feature= df_X.shape[1]"
   ]
  },
  {
   "cell_type": "markdown",
   "id": "9b96a239",
   "metadata": {},
   "source": [
    "### (3) train 데이터와 test 데이터로 분리하기"
   ]
  },
  {
   "cell_type": "code",
   "execution_count": 4,
   "id": "7b603555",
   "metadata": {},
   "outputs": [
    {
     "name": "stdout",
     "output_type": "stream",
     "text": [
      "353 89\n"
     ]
    }
   ],
   "source": [
    "from sklearn.model_selection import train_test_split\n",
    "X_train, X_test, y_train, y_test = train_test_split(df_X, df_y, test_size= 0.2, random_state =10)\n",
    "\n",
    "print(len(y_train),len(y_test))"
   ]
  },
  {
   "cell_type": "markdown",
   "id": "1a1040b1",
   "metadata": {},
   "source": [
    "### (4) 모델 준비하기"
   ]
  },
  {
   "cell_type": "code",
   "execution_count": 5,
   "id": "ec2bce64",
   "metadata": {},
   "outputs": [
    {
     "name": "stdout",
     "output_type": "stream",
     "text": [
      "[0.80623785 0.58678615 0.54633119 0.15286812 0.41816913 0.57804071\n",
      " 0.32161084 0.85927126 0.45433676 0.31470978] [0.42833382]\n"
     ]
    },
    {
     "data": {
      "text/plain": [
       "array([0.48966321, 0.44332044, 0.50084609, 0.52637415, 0.60360017])"
      ]
     },
     "execution_count": 5,
     "metadata": {},
     "output_type": "execute_result"
    }
   ],
   "source": [
    "def LinearFunction(X, W, b):\n",
    "    y= np.dot(X,W)+b\n",
    "    return y\n",
    "W = np.random.rand(n_feature)\n",
    "b = np.random.rand(1)\n",
    "\n",
    "print(W, b)\n",
    "type(W)\n",
    "\n",
    "y_pred = LinearFunction(X_train, W, b)\n",
    "y_pred[:5]"
   ]
  },
  {
   "cell_type": "markdown",
   "id": "419091c1",
   "metadata": {},
   "source": [
    "### (5) 손실함수 Loss 정의하기"
   ]
  },
  {
   "cell_type": "code",
   "execution_count": 6,
   "id": "16a03619",
   "metadata": {},
   "outputs": [],
   "source": [
    "def LossFunction(y_true, y_pred):\n",
    "    mse = ((y_true-y_pred)**2.).mean()\n",
    "    return mse"
   ]
  },
  {
   "cell_type": "markdown",
   "id": "2441ed08",
   "metadata": {},
   "source": [
    "### (6) 기울기를 구하는 gradient 함수 구현하기"
   ]
  },
  {
   "cell_type": "code",
   "execution_count": 7,
   "id": "f233edf7",
   "metadata": {},
   "outputs": [],
   "source": [
    "def Gradient(X, y_true, y_pred):\n",
    "\n",
    "    N = len(y_true)\n",
    "    dW = 1/N * 2 * X.T.dot(y_pred - y_true)\n",
    "    db = 2 * (y_pred - y_true).mean()\n",
    "    return dW, db"
   ]
  },
  {
   "cell_type": "markdown",
   "id": "d48f6315",
   "metadata": {},
   "source": [
    "### (7) 하이퍼 파라미터인 학습률 설정하기"
   ]
  },
  {
   "cell_type": "code",
   "execution_count": 8,
   "id": "bcc6ce8e",
   "metadata": {},
   "outputs": [],
   "source": [
    "Learning_rate = 0.1"
   ]
  },
  {
   "cell_type": "markdown",
   "id": "c29145e1",
   "metadata": {},
   "source": [
    "### (8) 모델 학습하기"
   ]
  },
  {
   "cell_type": "code",
   "execution_count": 9,
   "id": "5b2c1850",
   "metadata": {},
   "outputs": [
    {
     "name": "stdout",
     "output_type": "stream",
     "text": [
      "Iteration 0 : Loss 29087.4951\n",
      "Iteration 100 : Loss 5164.5713\n",
      "Iteration 200 : Loss 4680.9652\n",
      "Iteration 300 : Loss 4326.9931\n",
      "Iteration 400 : Loss 4064.5908\n",
      "Iteration 500 : Loss 3867.1980\n",
      "Iteration 600 : Loss 3716.2505\n",
      "Iteration 700 : Loss 3598.7453\n",
      "Iteration 800 : Loss 3505.5498\n",
      "Iteration 900 : Loss 3430.2270\n",
      "[  59.99918359  -26.84289245  248.72119015  177.50004722   38.47337514\n",
      "   14.64462052 -153.77109812  142.19525008  224.78093385  120.78817446] [152.03588783]\n"
     ]
    }
   ],
   "source": [
    "losses =[]\n",
    "\n",
    "for i in range(1000):\n",
    "    y_pred = LinearFunction(X_train, W, b)\n",
    "    dW, db = Gradient(X_train, y_train, y_pred)\n",
    "    L = LossFunction(y_train, y_pred)\n",
    "    W = W - Learning_rate*dW\n",
    "    b = b - Learning_rate*db\n",
    "    losses.append(L)\n",
    "    if i % 100 == 0:\n",
    "        print('Iteration %d : Loss %0.4f' % (i, L))  # 'Iteration %d : Loss %0.4f' % (i, L)\n",
    "# 최종 가중치 및 bias 결과 \n",
    "print(W,b)"
   ]
  },
  {
   "cell_type": "code",
   "execution_count": 10,
   "id": "3dda0f33",
   "metadata": {},
   "outputs": [
    {
     "data": {
      "text/plain": [
       "[<matplotlib.lines.Line2D at 0x7f19bb3131c0>]"
      ]
     },
     "execution_count": 10,
     "metadata": {},
     "output_type": "execute_result"
    },
    {
     "data": {
      "image/png": "[encoded data removed]",
      "text/plain": [
       "<Figure size 432x288 with 1 Axes>"
      ]
     },
     "metadata": {
      "needs_background": "light"
     },
     "output_type": "display_data"
    }
   ],
   "source": [
    "import matplotlib.pyplot as plt\n",
    "\n",
    "plt.plot(losses)\n"
   ]
  },
  {
   "cell_type": "markdown",
   "id": "315d8f70",
   "metadata": {},
   "source": [
    "### (9) test 데이터에 대한 성능 확인하기\n"
   ]
  },
  {
   "cell_type": "code",
   "execution_count": 11,
   "id": "0e6b0748",
   "metadata": {},
   "outputs": [
    {
     "data": {
      "text/plain": [
       "3707.4179843426514"
      ]
     },
     "execution_count": 11,
     "metadata": {},
     "output_type": "execute_result"
    }
   ],
   "source": [
    "yt_pred = LinearFunction(X_test, W, b)\n",
    "L = LossFunction(y_test, yt_pred)\n",
    "L"
   ]
  },
  {
   "cell_type": "markdown",
   "id": "e08f2463",
   "metadata": {},
   "source": [
    "### (10) 정답 데이터와 예측한 데이터 시각화하기"
   ]
  },
  {
   "cell_type": "code",
   "execution_count": 12,
   "id": "9de271ad",
   "metadata": {},
   "outputs": [
    {
     "data": {
      "text/plain": [
       "(0.0, 400.0)"
      ]
     },
     "execution_count": 12,
     "metadata": {},
     "output_type": "execute_result"
    },
    {
     "data": {
      "image/png": "[encoded data removed]",
      "text/plain": [
       "<Figure size 432x288 with 1 Axes>"
      ]
     },
     "metadata": {
      "needs_background": "light"
     },
     "output_type": "display_data"
    }
   ],
   "source": [
    "import matplotlib.pyplot as plt\n",
    "\n",
    "plt.scatter(X_test[:,0], yt_pred, label='pred')\n",
    "plt.scatter(X_test[:,0], y_test, label='test')\n",
    "plt.title('Test data Evaluation with self-model')\n",
    "plt.legend()\n",
    "plt.ylim(0, 400)"
   ]
  },
  {
   "cell_type": "markdown",
   "id": "a2afa730",
   "metadata": {},
   "source": [
    "### (11) sklearn 라이브러리 함수 (LinearRegression) 활용하여 평가하기"
   ]
  },
  {
   "cell_type": "code",
   "execution_count": 13,
   "id": "7c04452f",
   "metadata": {},
   "outputs": [],
   "source": [
    "from sklearn.linear_model import LinearRegression\n",
    "\n",
    "model = LinearRegression()"
   ]
  },
  {
   "cell_type": "code",
   "execution_count": 14,
   "id": "1fcb50cf",
   "metadata": {},
   "outputs": [
    {
     "data": {
      "text/plain": [
       "array([148.0978202 , 208.21400551, 186.40125844,  82.48876916,\n",
       "       163.39689627])"
      ]
     },
     "execution_count": 14,
     "metadata": {},
     "output_type": "execute_result"
    }
   ],
   "source": [
    "model.fit(X_train, y_train)\n",
    "predictions = model.predict(X_test)\n",
    "predictions[:5]"
   ]
  },
  {
   "cell_type": "code",
   "execution_count": 15,
   "id": "1eb12e99",
   "metadata": {},
   "outputs": [
    {
     "data": {
      "text/plain": [
       "2911.827951689161"
      ]
     },
     "execution_count": 15,
     "metadata": {},
     "output_type": "execute_result"
    }
   ],
   "source": [
    "from sklearn.metrics import mean_squared_error\n",
    "\n",
    "mse = mean_squared_error(y_test, predictions)\n",
    "mse"
   ]
  },
  {
   "cell_type": "code",
   "execution_count": 16,
   "id": "90431560",
   "metadata": {
    "scrolled": true
   },
   "outputs": [
    {
     "data": {
      "text/plain": [
       "(0.0, 400.0)"
      ]
     },
     "execution_count": 16,
     "metadata": {},
     "output_type": "execute_result"
    },
    {
     "data": {
      "image/png": "[encoded data removed]",
      "text/plain": [
       "<Figure size 432x288 with 1 Axes>"
      ]
     },
     "metadata": {
      "needs_background": "light"
     },
     "output_type": "display_data"
    }
   ],
   "source": [
    "plt.scatter(X_test[:,0], yt_pred, label='pred')\n",
    "plt.scatter(X_test[:,0], y_test, label='test')\n",
    "plt.title('Test data Evaluation with sklearn-model')\n",
    "plt.legend()\n",
    "plt.ylim(0, 400)"
   ]
  },
  {
   "cell_type": "markdown",
   "id": "0db9d21a",
   "metadata": {},
   "source": [
    "### 회고\n",
    ". 선형함수, Loss 함수, 및 기울기 평가 등을 직접 구현하여 전체적 과정을 직접 수행해 봄  \n",
    ". sklearn LinearRegression 모델을 적용하여 간단하게 평가하는 방법도 적용함  \n",
    ". 두 방법의 Test Data에 대한 Loss 값: 직접구현 = 3707, LinearRegression=2911 -> sklearn 모델의 성능이 약간 더 우수함  \n",
    ". LinearRegression의 경우 W, b, learning_rate, max_iter 등의 정보를 확인할 수 없는 것이 단점임  "
   ]
  },
  {
   "cell_type": "markdown",
   "id": "1e70fd8e",
   "metadata": {},
   "source": [
    "# 프로젝트 2 : 날씨 좋은 월요일 오후 세 시, 자전거 타는 사람은 몇 명?"
   ]
  },
  {
   "cell_type": "code",
   "execution_count": 25,
   "id": "bb8a0c59",
   "metadata": {},
   "outputs": [
    {
     "name": "stdout",
     "output_type": "stream",
     "text": [
      "(10886, 12)\n"
     ]
    },
    {
     "data": {
      "text/html": [
       "<div>\n",
       "<style scoped>\n",
       "    .dataframe tbody tr th:only-of-type {\n",
       "        vertical-align: middle;\n",
       "    }\n",
       "\n",
       "    .dataframe tbody tr th {\n",
       "        vertical-align: top;\n",
       "    }\n",
       "\n",
       "    .dataframe thead th {\n",
       "        text-align: right;\n",
       "    }\n",
       "</style>\n",
       "<table border=\"1\" class=\"dataframe\">\n",
       "  <thead>\n",
       "    <tr style=\"text-align: right;\">\n",
       "      <th></th>\n",
       "      <th>datetime</th>\n",
       "      <th>season</th>\n",
       "      <th>holiday</th>\n",
       "      <th>workingday</th>\n",
       "      <th>weather</th>\n",
       "      <th>temp</th>\n",
       "      <th>atemp</th>\n",
       "      <th>humidity</th>\n",
       "      <th>windspeed</th>\n",
       "      <th>casual</th>\n",
       "      <th>registered</th>\n",
       "      <th>count</th>\n",
       "    </tr>\n",
       "  </thead>\n",
       "  <tbody>\n",
       "    <tr>\n",
       "      <th>0</th>\n",
       "      <td>2011-01-01 00:00:00</td>\n",
       "      <td>1</td>\n",
       "      <td>0</td>\n",
       "      <td>0</td>\n",
       "      <td>1</td>\n",
       "      <td>9.84</td>\n",
       "      <td>14.395</td>\n",
       "      <td>81</td>\n",
       "      <td>0.0000</td>\n",
       "      <td>3</td>\n",
       "      <td>13</td>\n",
       "      <td>16</td>\n",
       "    </tr>\n",
       "    <tr>\n",
       "      <th>1</th>\n",
       "      <td>2011-01-01 01:00:00</td>\n",
       "      <td>1</td>\n",
       "      <td>0</td>\n",
       "      <td>0</td>\n",
       "      <td>1</td>\n",
       "      <td>9.02</td>\n",
       "      <td>13.635</td>\n",
       "      <td>80</td>\n",
       "      <td>0.0000</td>\n",
       "      <td>8</td>\n",
       "      <td>32</td>\n",
       "      <td>40</td>\n",
       "    </tr>\n",
       "    <tr>\n",
       "      <th>2</th>\n",
       "      <td>2011-01-01 02:00:00</td>\n",
       "      <td>1</td>\n",
       "      <td>0</td>\n",
       "      <td>0</td>\n",
       "      <td>1</td>\n",
       "      <td>9.02</td>\n",
       "      <td>13.635</td>\n",
       "      <td>80</td>\n",
       "      <td>0.0000</td>\n",
       "      <td>5</td>\n",
       "      <td>27</td>\n",
       "      <td>32</td>\n",
       "    </tr>\n",
       "    <tr>\n",
       "      <th>3</th>\n",
       "      <td>2011-01-01 03:00:00</td>\n",
       "      <td>1</td>\n",
       "      <td>0</td>\n",
       "      <td>0</td>\n",
       "      <td>1</td>\n",
       "      <td>9.84</td>\n",
       "      <td>14.395</td>\n",
       "      <td>75</td>\n",
       "      <td>0.0000</td>\n",
       "      <td>3</td>\n",
       "      <td>10</td>\n",
       "      <td>13</td>\n",
       "    </tr>\n",
       "    <tr>\n",
       "      <th>4</th>\n",
       "      <td>2011-01-01 04:00:00</td>\n",
       "      <td>1</td>\n",
       "      <td>0</td>\n",
       "      <td>0</td>\n",
       "      <td>1</td>\n",
       "      <td>9.84</td>\n",
       "      <td>14.395</td>\n",
       "      <td>75</td>\n",
       "      <td>0.0000</td>\n",
       "      <td>0</td>\n",
       "      <td>1</td>\n",
       "      <td>1</td>\n",
       "    </tr>\n",
       "    <tr>\n",
       "      <th>...</th>\n",
       "      <td>...</td>\n",
       "      <td>...</td>\n",
       "      <td>...</td>\n",
       "      <td>...</td>\n",
       "      <td>...</td>\n",
       "      <td>...</td>\n",
       "      <td>...</td>\n",
       "      <td>...</td>\n",
       "      <td>...</td>\n",
       "      <td>...</td>\n",
       "      <td>...</td>\n",
       "      <td>...</td>\n",
       "    </tr>\n",
       "    <tr>\n",
       "      <th>10881</th>\n",
       "      <td>2012-12-19 19:00:00</td>\n",
       "      <td>4</td>\n",
       "      <td>0</td>\n",
       "      <td>1</td>\n",
       "      <td>1</td>\n",
       "      <td>15.58</td>\n",
       "      <td>19.695</td>\n",
       "      <td>50</td>\n",
       "      <td>26.0027</td>\n",
       "      <td>7</td>\n",
       "      <td>329</td>\n",
       "      <td>336</td>\n",
       "    </tr>\n",
       "    <tr>\n",
       "      <th>10882</th>\n",
       "      <td>2012-12-19 20:00:00</td>\n",
       "      <td>4</td>\n",
       "      <td>0</td>\n",
       "      <td>1</td>\n",
       "      <td>1</td>\n",
       "      <td>14.76</td>\n",
       "      <td>17.425</td>\n",
       "      <td>57</td>\n",
       "      <td>15.0013</td>\n",
       "      <td>10</td>\n",
       "      <td>231</td>\n",
       "      <td>241</td>\n",
       "    </tr>\n",
       "    <tr>\n",
       "      <th>10883</th>\n",
       "      <td>2012-12-19 21:00:00</td>\n",
       "      <td>4</td>\n",
       "      <td>0</td>\n",
       "      <td>1</td>\n",
       "      <td>1</td>\n",
       "      <td>13.94</td>\n",
       "      <td>15.910</td>\n",
       "      <td>61</td>\n",
       "      <td>15.0013</td>\n",
       "      <td>4</td>\n",
       "      <td>164</td>\n",
       "      <td>168</td>\n",
       "    </tr>\n",
       "    <tr>\n",
       "      <th>10884</th>\n",
       "      <td>2012-12-19 22:00:00</td>\n",
       "      <td>4</td>\n",
       "      <td>0</td>\n",
       "      <td>1</td>\n",
       "      <td>1</td>\n",
       "      <td>13.94</td>\n",
       "      <td>17.425</td>\n",
       "      <td>61</td>\n",
       "      <td>6.0032</td>\n",
       "      <td>12</td>\n",
       "      <td>117</td>\n",
       "      <td>129</td>\n",
       "    </tr>\n",
       "    <tr>\n",
       "      <th>10885</th>\n",
       "      <td>2012-12-19 23:00:00</td>\n",
       "      <td>4</td>\n",
       "      <td>0</td>\n",
       "      <td>1</td>\n",
       "      <td>1</td>\n",
       "      <td>13.12</td>\n",
       "      <td>16.665</td>\n",
       "      <td>66</td>\n",
       "      <td>8.9981</td>\n",
       "      <td>4</td>\n",
       "      <td>84</td>\n",
       "      <td>88</td>\n",
       "    </tr>\n",
       "  </tbody>\n",
       "</table>\n",
       "<p>10886 rows × 12 columns</p>\n",
       "</div>"
      ],
      "text/plain": [
       "                  datetime  season  holiday  workingday  weather   temp  \\\n",
       "0      2011-01-01 00:00:00       1        0           0        1   9.84   \n",
       "1      2011-01-01 01:00:00       1        0           0        1   9.02   \n",
       "2      2011-01-01 02:00:00       1        0           0        1   9.02   \n",
       "3      2011-01-01 03:00:00       1        0           0        1   9.84   \n",
       "4      2011-01-01 04:00:00       1        0           0        1   9.84   \n",
       "...                    ...     ...      ...         ...      ...    ...   \n",
       "10881  2012-12-19 19:00:00       4        0           1        1  15.58   \n",
       "10882  2012-12-19 20:00:00       4        0           1        1  14.76   \n",
       "10883  2012-12-19 21:00:00       4        0           1        1  13.94   \n",
       "10884  2012-12-19 22:00:00       4        0           1        1  13.94   \n",
       "10885  2012-12-19 23:00:00       4        0           1        1  13.12   \n",
       "\n",
       "        atemp  humidity  windspeed  casual  registered  count  \n",
       "0      14.395        81     0.0000       3          13     16  \n",
       "1      13.635        80     0.0000       8          32     40  \n",
       "2      13.635        80     0.0000       5          27     32  \n",
       "3      14.395        75     0.0000       3          10     13  \n",
       "4      14.395        75     0.0000       0           1      1  \n",
       "...       ...       ...        ...     ...         ...    ...  \n",
       "10881  19.695        50    26.0027       7         329    336  \n",
       "10882  17.425        57    15.0013      10         231    241  \n",
       "10883  15.910        61    15.0013       4         164    168  \n",
       "10884  17.425        61     6.0032      12         117    129  \n",
       "10885  16.665        66     8.9981       4          84     88  \n",
       "\n",
       "[10886 rows x 12 columns]"
      ]
     },
     "execution_count": 25,
     "metadata": {},
     "output_type": "execute_result"
    }
   ],
   "source": [
    "import pandas as pd\n",
    "\n",
    "bike = pd.read_csv('~/data/data/bike-sharing-demand/train.csv')\n",
    "print(bike.shape)\n",
    "bike"
   ]
  },
  {
   "cell_type": "code",
   "execution_count": 27,
   "id": "afdb671c",
   "metadata": {},
   "outputs": [
    {
     "data": {
      "text/plain": [
       "0   2011-01-01 00:00:00\n",
       "1   2011-01-01 01:00:00\n",
       "2   2011-01-01 02:00:00\n",
       "3   2011-01-01 03:00:00\n",
       "4   2011-01-01 04:00:00\n",
       "Name: datetime, dtype: datetime64[ns]"
      ]
     },
     "execution_count": 27,
     "metadata": {},
     "output_type": "execute_result"
    }
   ],
   "source": [
    "bike_time= pd.to_datetime(bike.datetime)\n",
    "bike_time.head()"
   ]
  },
  {
   "cell_type": "code",
   "execution_count": 30,
   "id": "dd13a6e3",
   "metadata": {},
   "outputs": [
    {
     "data": {
      "text/plain": [
       "(10886,)"
      ]
     },
     "execution_count": 30,
     "metadata": {},
     "output_type": "execute_result"
    }
   ],
   "source": [
    "bike_time.shape"
   ]
  },
  {
   "cell_type": "code",
   "execution_count": null,
   "id": "cf304aab",
   "metadata": {},
   "outputs": [],
   "source": []
  }
 ],
 "metadata": {
  "kernelspec": {
   "display_name": "Python 3 (ipykernel)",
   "language": "python",
   "name": "python3"
  },
  "language_info": {
   "codemirror_mode": {
    "name": "ipython",
    "version": 3
   },
   "file_extension": ".py",
   "mimetype": "text/x-python",
   "name": "python",
   "nbconvert_exporter": "python",
   "pygments_lexer": "ipython3",
   "version": "3.9.7"
  }
 },
 "nbformat": 4,
 "nbformat_minor": 5
}
