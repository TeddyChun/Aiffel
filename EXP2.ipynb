{
 "cells": [
  {
   "cell_type": "markdown",
   "id": "ea5a14b7",
   "metadata": {},
   "source": [
    "# 프로젝트 1 : 선형회귀, 당뇨병 수치를 맞추자!"
   ]
  },
  {
   "cell_type": "code",
   "execution_count": 1,
   "id": "786e16f1",
   "metadata": {},
   "outputs": [],
   "source": [
    "import sklearn\n",
    "from sklearn.datasets import load_diabetes "
   ]
  },
  {
   "cell_type": "markdown",
   "id": "4860a8ee",
   "metadata": {},
   "source": [
    "### (1) 데이터 가져오기"
   ]
  },
  {
   "cell_type": "code",
   "execution_count": 2,
   "id": "b762866b",
   "metadata": {},
   "outputs": [
    {
     "data": {
      "text/plain": [
       "dict_keys(['data', 'target', 'frame', 'DESCR', 'feature_names', 'data_filename', 'target_filename', 'data_module'])"
      ]
     },
     "execution_count": 2,
     "metadata": {},
     "output_type": "execute_result"
    }
   ],
   "source": [
    "import pandas as pd\n",
    "diabets = load_diabetes()\n",
    "diabets.keys()"
   ]
  },
  {
   "cell_type": "markdown",
   "id": "86200124",
   "metadata": {},
   "source": [
    "### (2)  모델에 입력할 데이터 X, y 준비하기"
   ]
  },
  {
   "cell_type": "code",
   "execution_count": 6,
   "id": "ec7d2261",
   "metadata": {},
   "outputs": [
    {
     "name": "stdout",
     "output_type": "stream",
     "text": [
      "(442, 10) (442,)\n"
     ]
    }
   ],
   "source": [
    "import numpy as np\n",
    "df_X = np.array(diabets.data)\n",
    "df_y = np.array(diabets.target)\n",
    "\n",
    "\n",
    "print(df_X.shape,df_y.shape)"
   ]
  },
  {
   "cell_type": "markdown",
   "id": "0a2cddb9",
   "metadata": {},
   "source": [
    "### (3) train 데이터와 test 데이터로 분리하기"
   ]
  },
  {
   "cell_type": "code",
   "execution_count": 4,
   "id": "026df2fd",
   "metadata": {},
   "outputs": [],
   "source": [
    "from sklearn.model_selection import train_test_split\n",
    "X_train, X_test, y_train, y_test = train_test_split(df_X, df_y, test_size= 0.2, random_state =10)\n",
    "#y_train[:5]"
   ]
  },
  {
   "cell_type": "markdown",
   "id": "fe3168c3",
   "metadata": {},
   "source": [
    "### (4) 모델 준비하기"
   ]
  },
  {
   "cell_type": "code",
   "execution_count": 7,
   "id": "dc4069cb",
   "metadata": {},
   "outputs": [
    {
     "data": {
      "text/plain": [
       "LinearRegression()"
      ]
     },
     "execution_count": 7,
     "metadata": {},
     "output_type": "execute_result"
    }
   ],
   "source": [
    "from sklearn.linear_model import LinearRegression\n",
    "\n",
    "model = LinearRegression()\n",
    "model.fit(X_train, y_train)"
   ]
  },
  {
   "cell_type": "code",
   "execution_count": 8,
   "id": "1620bd65",
   "metadata": {},
   "outputs": [],
   "source": [
    "y_pred = model.predict(X_test)"
   ]
  },
  {
   "cell_type": "code",
   "execution_count": 9,
   "id": "26d37336",
   "metadata": {},
   "outputs": [
    {
     "data": {
      "text/plain": [
       "2911.827951689161"
      ]
     },
     "execution_count": 9,
     "metadata": {},
     "output_type": "execute_result"
    }
   ],
   "source": [
    "from sklearn.metrics import mean_squared_error\n",
    "mse = mean_squared_error(y_test, y_pred)\n",
    "mse"
   ]
  },
  {
   "cell_type": "code",
   "execution_count": null,
   "id": "45fbbf31",
   "metadata": {},
   "outputs": [],
   "source": []
  }
 ],
 "metadata": {
  "kernelspec": {
   "display_name": "Python 3 (ipykernel)",
   "language": "python",
   "name": "python3"
  },
  "language_info": {
   "codemirror_mode": {
    "name": "ipython",
    "version": 3
   },
   "file_extension": ".py",
   "mimetype": "text/x-python",
   "name": "python",
   "nbconvert_exporter": "python",
   "pygments_lexer": "ipython3",
   "version": "3.9.7"
  }
 },
 "nbformat": 4,
 "nbformat_minor": 5
}
